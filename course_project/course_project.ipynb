{
 "cells": [
  {
   "cell_type": "code",
   "execution_count": 1,
   "id": "parliamentary-angola",
   "metadata": {
    "_cell_guid": "b1076dfc-b9ad-4769-8c92-a6c4dae69d19",
    "_uuid": "8f2839f25d086af736a60e9eeb907d3b93b6e0e5",
    "execution": {
     "iopub.execute_input": "2021-06-27T23:28:17.119332Z",
     "iopub.status.busy": "2021-06-27T23:28:17.118424Z",
     "iopub.status.idle": "2021-06-27T23:28:17.125634Z",
     "shell.execute_reply": "2021-06-27T23:28:17.124789Z"
    },
    "papermill": {
     "duration": 0.057373,
     "end_time": "2021-06-27T23:28:17.125862",
     "exception": false,
     "start_time": "2021-06-27T23:28:17.068489",
     "status": "completed"
    },
    "tags": []
   },
   "outputs": [
    {
     "name": "stdout",
     "output_type": "stream",
     "text": [
      "/kaggle/input/real-estate-price-prediction-moscow/sample_submission.csv\n",
      "/kaggle/input/real-estate-price-prediction-moscow/train.csv\n",
      "/kaggle/input/real-estate-price-prediction-moscow/test.csv\n"
     ]
    }
   ],
   "source": [
    "# This Python 3 environment comes with many helpful analytics libraries installed\n",
    "# It is defined by the kaggle/python Docker image: https://github.com/kaggle/docker-python\n",
    "# For example, here's several helpful packages to load\n",
    "\n",
    "import numpy as np # linear algebra\n",
    "import pandas as pd # data processing, CSV file I/O (e.g. pd.read_csv)\n",
    "\n",
    "# Input data files are available in the read-only \"../input/\" directory\n",
    "# For example, running this (by clicking run or pressing Shift+Enter) will list all files under the input directory\n",
    "\n",
    "import os\n",
    "for dirname, _, filenames in os.walk('/kaggle/input'):\n",
    "    for filename in filenames:\n",
    "        print(os.path.join(dirname, filename))\n",
    "\n",
    "# You can write up to 20GB to the current directory (/kaggle/working/) that gets preserved as output when you create a version using \"Save & Run All\" \n",
    "# You can also write temporary files to /kaggle/temp/, but they won't be saved outside of the current session"
   ]
  },
  {
   "cell_type": "code",
   "execution_count": 2,
   "id": "sorted-request",
   "metadata": {
    "execution": {
     "iopub.execute_input": "2021-06-27T23:28:17.212603Z",
     "iopub.status.busy": "2021-06-27T23:28:17.211759Z",
     "iopub.status.idle": "2021-06-27T23:28:19.535751Z",
     "shell.execute_reply": "2021-06-27T23:28:19.536397Z",
     "shell.execute_reply.started": "2021-06-27T23:07:55.667385Z"
    },
    "papermill": {
     "duration": 2.372526,
     "end_time": "2021-06-27T23:28:19.536580",
     "exception": false,
     "start_time": "2021-06-27T23:28:17.164054",
     "status": "completed"
    },
    "tags": []
   },
   "outputs": [
    {
     "data": {
      "text/html": [
       "<style type='text/css'>\n",
       ".datatable table.frame { margin-bottom: 0; }\n",
       ".datatable table.frame thead { border-bottom: none; }\n",
       ".datatable table.frame tr.coltypes td {  color: #FFFFFF;  line-height: 6px;  padding: 0 0.5em;}\n",
       ".datatable .bool    { background: #DDDD99; }\n",
       ".datatable .object  { background: #565656; }\n",
       ".datatable .int     { background: #5D9E5D; }\n",
       ".datatable .float   { background: #4040CC; }\n",
       ".datatable .str     { background: #CC4040; }\n",
       ".datatable .row_index {  background: var(--jp-border-color3);  border-right: 1px solid var(--jp-border-color0);  color: var(--jp-ui-font-color3);  font-size: 9px;}\n",
       ".datatable .frame tr.coltypes .row_index {  background: var(--jp-border-color0);}\n",
       ".datatable th:nth-child(2) { padding-left: 12px; }\n",
       ".datatable .hellipsis {  color: var(--jp-cell-editor-border-color);}\n",
       ".datatable .vellipsis {  background: var(--jp-layout-color0);  color: var(--jp-cell-editor-border-color);}\n",
       ".datatable .na {  color: var(--jp-cell-editor-border-color);  font-size: 80%;}\n",
       ".datatable .footer { font-size: 9px; }\n",
       ".datatable .frame_dimensions {  background: var(--jp-border-color3);  border-top: 1px solid var(--jp-border-color0);  color: var(--jp-ui-font-color3);  display: inline-block;  opacity: 0.6;  padding: 1px 10px 1px 5px;}\n",
       "</style>\n"
      ],
      "text/plain": [
       "<IPython.core.display.HTML object>"
      ]
     },
     "metadata": {},
     "output_type": "display_data"
    }
   ],
   "source": [
    "import numpy as np\n",
    "import pandas as pd\n",
    "import seaborn as sns\n",
    "import matplotlib.pyplot as plt\n",
    "\n",
    "from sklearn import ensemble\n",
    "from matplotlib import style\n",
    "from sklearn.ensemble import VotingRegressor\n",
    "\n",
    "import datetime # для работы со времнем\n",
    "import gc \n",
    "\n",
    "from sklearn.ensemble import RandomForestRegressor\n",
    "from sklearn.metrics import r2_score\n",
    "from sklearn.model_selection import train_test_split, KFold, GridSearchCV, cross_val_score\n",
    "\n",
    "from lightgbm import LGBMRegressor\n",
    "import warnings\n",
    "warnings.filterwarnings('ignore')\n",
    "\n",
    "%matplotlib inline\n",
    "\n",
    "style.use('fivethirtyeight')\n",
    "%matplotlib inline\n",
    "\n"
   ]
  },
  {
   "cell_type": "markdown",
   "id": "sexual-bubble",
   "metadata": {
    "papermill": {
     "duration": 0.038883,
     "end_time": "2021-06-27T23:28:19.613368",
     "exception": false,
     "start_time": "2021-06-27T23:28:19.574485",
     "status": "completed"
    },
    "tags": []
   },
   "source": [
    "**1.Загрузка данных.**"
   ]
  },
  {
   "cell_type": "code",
   "execution_count": 3,
   "id": "consistent-hormone",
   "metadata": {
    "execution": {
     "iopub.execute_input": "2021-06-27T23:28:19.698292Z",
     "iopub.status.busy": "2021-06-27T23:28:19.697707Z",
     "iopub.status.idle": "2021-06-27T23:28:19.785985Z",
     "shell.execute_reply": "2021-06-27T23:28:19.784826Z",
     "shell.execute_reply.started": "2021-06-27T23:08:11.696768Z"
    },
    "papermill": {
     "duration": 0.130408,
     "end_time": "2021-06-27T23:28:19.786135",
     "exception": false,
     "start_time": "2021-06-27T23:28:19.655727",
     "status": "completed"
    },
    "tags": []
   },
   "outputs": [],
   "source": [
    "TRAIN_DATASET_PATH = '../input/real-estate-price-prediction-moscow/train.csv'\n",
    "TEST_DATASET_PATH = '../input/real-estate-price-prediction-moscow/test.csv'\n",
    "\n",
    "test_data = pd.read_csv(TEST_DATASET_PATH)\n",
    "train_data = pd.read_csv(TRAIN_DATASET_PATH)"
   ]
  },
  {
   "cell_type": "code",
   "execution_count": 4,
   "id": "invalid-group",
   "metadata": {
    "execution": {
     "iopub.execute_input": "2021-06-27T23:28:19.872847Z",
     "iopub.status.busy": "2021-06-27T23:28:19.872083Z",
     "iopub.status.idle": "2021-06-27T23:28:19.933398Z",
     "shell.execute_reply": "2021-06-27T23:28:19.932579Z",
     "shell.execute_reply.started": "2021-06-27T23:08:16.795146Z"
    },
    "papermill": {
     "duration": 0.109247,
     "end_time": "2021-06-27T23:28:19.933606",
     "exception": false,
     "start_time": "2021-06-27T23:28:19.824359",
     "status": "completed"
    },
    "tags": []
   },
   "outputs": [
    {
     "name": "stdout",
     "output_type": "stream",
     "text": [
      "Строк всего в train: 10000\n",
      "Строк всего в test 5000\n"
     ]
    }
   ],
   "source": [
    "df = pd.read_csv(TRAIN_DATASET_PATH)\n",
    "\n",
    "X = df.drop('Price', axis=1)\n",
    "y = df[['Price']]\n",
    "\n",
    "X_final = pd.read_csv(TEST_DATASET_PATH)\n",
    "\n",
    "# test DATA\n",
    "preds_final = pd.DataFrame()\n",
    "preds_final['Id'] = X_final['Id'].copy()\n",
    "\n",
    "X.set_index('Id', inplace=True)\n",
    "X_final.set_index('Id', inplace=True)\n",
    "\n",
    "print('Строк всего в train:' ,  X.shape[0])\n",
    "print('Строк всего в test', X_final.shape[0])"
   ]
  },
  {
   "cell_type": "code",
   "execution_count": 5,
   "id": "revolutionary-folder",
   "metadata": {
    "execution": {
     "iopub.execute_input": "2021-06-27T23:28:20.018250Z",
     "iopub.status.busy": "2021-06-27T23:28:20.017486Z",
     "iopub.status.idle": "2021-06-27T23:28:20.051644Z",
     "shell.execute_reply": "2021-06-27T23:28:20.050634Z",
     "shell.execute_reply.started": "2021-06-27T23:08:19.987147Z"
    },
    "papermill": {
     "duration": 0.079026,
     "end_time": "2021-06-27T23:28:20.051804",
     "exception": false,
     "start_time": "2021-06-27T23:28:19.972778",
     "status": "completed"
    },
    "tags": []
   },
   "outputs": [
    {
     "data": {
      "text/html": [
       "<div>\n",
       "<style scoped>\n",
       "    .dataframe tbody tr th:only-of-type {\n",
       "        vertical-align: middle;\n",
       "    }\n",
       "\n",
       "    .dataframe tbody tr th {\n",
       "        vertical-align: top;\n",
       "    }\n",
       "\n",
       "    .dataframe thead th {\n",
       "        text-align: right;\n",
       "    }\n",
       "</style>\n",
       "<table border=\"1\" class=\"dataframe\">\n",
       "  <thead>\n",
       "    <tr style=\"text-align: right;\">\n",
       "      <th></th>\n",
       "      <th>DistrictId</th>\n",
       "      <th>Rooms</th>\n",
       "      <th>Square</th>\n",
       "      <th>LifeSquare</th>\n",
       "      <th>KitchenSquare</th>\n",
       "      <th>Floor</th>\n",
       "      <th>HouseFloor</th>\n",
       "      <th>HouseYear</th>\n",
       "      <th>Ecology_1</th>\n",
       "      <th>Ecology_2</th>\n",
       "      <th>Ecology_3</th>\n",
       "      <th>Social_1</th>\n",
       "      <th>Social_2</th>\n",
       "      <th>Social_3</th>\n",
       "      <th>Healthcare_1</th>\n",
       "      <th>Helthcare_2</th>\n",
       "      <th>Shops_1</th>\n",
       "      <th>Shops_2</th>\n",
       "    </tr>\n",
       "    <tr>\n",
       "      <th>Id</th>\n",
       "      <th></th>\n",
       "      <th></th>\n",
       "      <th></th>\n",
       "      <th></th>\n",
       "      <th></th>\n",
       "      <th></th>\n",
       "      <th></th>\n",
       "      <th></th>\n",
       "      <th></th>\n",
       "      <th></th>\n",
       "      <th></th>\n",
       "      <th></th>\n",
       "      <th></th>\n",
       "      <th></th>\n",
       "      <th></th>\n",
       "      <th></th>\n",
       "      <th></th>\n",
       "      <th></th>\n",
       "    </tr>\n",
       "  </thead>\n",
       "  <tbody>\n",
       "    <tr>\n",
       "      <th>4567</th>\n",
       "      <td>44</td>\n",
       "      <td>1.0</td>\n",
       "      <td>36.847630</td>\n",
       "      <td>19.094182</td>\n",
       "      <td>5.0</td>\n",
       "      <td>5</td>\n",
       "      <td>9.0</td>\n",
       "      <td>1970</td>\n",
       "      <td>0.036122</td>\n",
       "      <td>B</td>\n",
       "      <td>B</td>\n",
       "      <td>24</td>\n",
       "      <td>4378</td>\n",
       "      <td>0</td>\n",
       "      <td>1036.0</td>\n",
       "      <td>1</td>\n",
       "      <td>1</td>\n",
       "      <td>B</td>\n",
       "    </tr>\n",
       "    <tr>\n",
       "      <th>5925</th>\n",
       "      <td>62</td>\n",
       "      <td>1.0</td>\n",
       "      <td>42.493907</td>\n",
       "      <td>42.568133</td>\n",
       "      <td>10.0</td>\n",
       "      <td>7</td>\n",
       "      <td>17.0</td>\n",
       "      <td>2017</td>\n",
       "      <td>0.072158</td>\n",
       "      <td>B</td>\n",
       "      <td>B</td>\n",
       "      <td>2</td>\n",
       "      <td>629</td>\n",
       "      <td>1</td>\n",
       "      <td>NaN</td>\n",
       "      <td>0</td>\n",
       "      <td>0</td>\n",
       "      <td>A</td>\n",
       "    </tr>\n",
       "    <tr>\n",
       "      <th>960</th>\n",
       "      <td>27</td>\n",
       "      <td>2.0</td>\n",
       "      <td>59.463678</td>\n",
       "      <td>NaN</td>\n",
       "      <td>9.0</td>\n",
       "      <td>19</td>\n",
       "      <td>19.0</td>\n",
       "      <td>1977</td>\n",
       "      <td>0.211401</td>\n",
       "      <td>B</td>\n",
       "      <td>B</td>\n",
       "      <td>9</td>\n",
       "      <td>1892</td>\n",
       "      <td>0</td>\n",
       "      <td>NaN</td>\n",
       "      <td>0</td>\n",
       "      <td>1</td>\n",
       "      <td>B</td>\n",
       "    </tr>\n",
       "    <tr>\n",
       "      <th>3848</th>\n",
       "      <td>23</td>\n",
       "      <td>3.0</td>\n",
       "      <td>49.646030</td>\n",
       "      <td>33.893825</td>\n",
       "      <td>6.0</td>\n",
       "      <td>2</td>\n",
       "      <td>2.0</td>\n",
       "      <td>1965</td>\n",
       "      <td>0.014073</td>\n",
       "      <td>B</td>\n",
       "      <td>B</td>\n",
       "      <td>2</td>\n",
       "      <td>475</td>\n",
       "      <td>0</td>\n",
       "      <td>NaN</td>\n",
       "      <td>0</td>\n",
       "      <td>0</td>\n",
       "      <td>B</td>\n",
       "    </tr>\n",
       "    <tr>\n",
       "      <th>746</th>\n",
       "      <td>74</td>\n",
       "      <td>1.0</td>\n",
       "      <td>53.837056</td>\n",
       "      <td>NaN</td>\n",
       "      <td>1.0</td>\n",
       "      <td>8</td>\n",
       "      <td>17.0</td>\n",
       "      <td>1977</td>\n",
       "      <td>0.309479</td>\n",
       "      <td>B</td>\n",
       "      <td>B</td>\n",
       "      <td>35</td>\n",
       "      <td>7715</td>\n",
       "      <td>4</td>\n",
       "      <td>990.0</td>\n",
       "      <td>0</td>\n",
       "      <td>6</td>\n",
       "      <td>B</td>\n",
       "    </tr>\n",
       "    <tr>\n",
       "      <th>868</th>\n",
       "      <td>38</td>\n",
       "      <td>3.0</td>\n",
       "      <td>87.139994</td>\n",
       "      <td>53.180419</td>\n",
       "      <td>10.0</td>\n",
       "      <td>4</td>\n",
       "      <td>23.0</td>\n",
       "      <td>2011</td>\n",
       "      <td>0.060753</td>\n",
       "      <td>B</td>\n",
       "      <td>B</td>\n",
       "      <td>15</td>\n",
       "      <td>2787</td>\n",
       "      <td>2</td>\n",
       "      <td>520.0</td>\n",
       "      <td>0</td>\n",
       "      <td>7</td>\n",
       "      <td>B</td>\n",
       "    </tr>\n",
       "    <tr>\n",
       "      <th>672</th>\n",
       "      <td>62</td>\n",
       "      <td>1.0</td>\n",
       "      <td>46.269456</td>\n",
       "      <td>22.820239</td>\n",
       "      <td>11.0</td>\n",
       "      <td>8</td>\n",
       "      <td>17.0</td>\n",
       "      <td>2014</td>\n",
       "      <td>0.072158</td>\n",
       "      <td>B</td>\n",
       "      <td>B</td>\n",
       "      <td>2</td>\n",
       "      <td>629</td>\n",
       "      <td>1</td>\n",
       "      <td>NaN</td>\n",
       "      <td>0</td>\n",
       "      <td>0</td>\n",
       "      <td>A</td>\n",
       "    </tr>\n",
       "    <tr>\n",
       "      <th>2471</th>\n",
       "      <td>2</td>\n",
       "      <td>2.0</td>\n",
       "      <td>48.172969</td>\n",
       "      <td>29.924204</td>\n",
       "      <td>6.0</td>\n",
       "      <td>4</td>\n",
       "      <td>9.0</td>\n",
       "      <td>1974</td>\n",
       "      <td>0.000000</td>\n",
       "      <td>B</td>\n",
       "      <td>B</td>\n",
       "      <td>33</td>\n",
       "      <td>7425</td>\n",
       "      <td>1</td>\n",
       "      <td>NaN</td>\n",
       "      <td>2</td>\n",
       "      <td>5</td>\n",
       "      <td>B</td>\n",
       "    </tr>\n",
       "    <tr>\n",
       "      <th>4510</th>\n",
       "      <td>1</td>\n",
       "      <td>1.0</td>\n",
       "      <td>43.153761</td>\n",
       "      <td>21.017596</td>\n",
       "      <td>9.0</td>\n",
       "      <td>10</td>\n",
       "      <td>17.0</td>\n",
       "      <td>2014</td>\n",
       "      <td>0.007122</td>\n",
       "      <td>B</td>\n",
       "      <td>B</td>\n",
       "      <td>1</td>\n",
       "      <td>264</td>\n",
       "      <td>0</td>\n",
       "      <td>NaN</td>\n",
       "      <td>0</td>\n",
       "      <td>1</td>\n",
       "      <td>B</td>\n",
       "    </tr>\n",
       "    <tr>\n",
       "      <th>8354</th>\n",
       "      <td>62</td>\n",
       "      <td>2.0</td>\n",
       "      <td>62.593787</td>\n",
       "      <td>59.786844</td>\n",
       "      <td>10.0</td>\n",
       "      <td>1</td>\n",
       "      <td>16.0</td>\n",
       "      <td>1981</td>\n",
       "      <td>0.002212</td>\n",
       "      <td>B</td>\n",
       "      <td>B</td>\n",
       "      <td>39</td>\n",
       "      <td>7614</td>\n",
       "      <td>3</td>\n",
       "      <td>NaN</td>\n",
       "      <td>1</td>\n",
       "      <td>5</td>\n",
       "      <td>A</td>\n",
       "    </tr>\n",
       "  </tbody>\n",
       "</table>\n",
       "</div>"
      ],
      "text/plain": [
       "      DistrictId  Rooms     Square  LifeSquare  KitchenSquare  Floor  \\\n",
       "Id                                                                     \n",
       "4567          44    1.0  36.847630   19.094182            5.0      5   \n",
       "5925          62    1.0  42.493907   42.568133           10.0      7   \n",
       "960           27    2.0  59.463678         NaN            9.0     19   \n",
       "3848          23    3.0  49.646030   33.893825            6.0      2   \n",
       "746           74    1.0  53.837056         NaN            1.0      8   \n",
       "868           38    3.0  87.139994   53.180419           10.0      4   \n",
       "672           62    1.0  46.269456   22.820239           11.0      8   \n",
       "2471           2    2.0  48.172969   29.924204            6.0      4   \n",
       "4510           1    1.0  43.153761   21.017596            9.0     10   \n",
       "8354          62    2.0  62.593787   59.786844           10.0      1   \n",
       "\n",
       "      HouseFloor  HouseYear  Ecology_1 Ecology_2 Ecology_3  Social_1  \\\n",
       "Id                                                                     \n",
       "4567         9.0       1970   0.036122         B         B        24   \n",
       "5925        17.0       2017   0.072158         B         B         2   \n",
       "960         19.0       1977   0.211401         B         B         9   \n",
       "3848         2.0       1965   0.014073         B         B         2   \n",
       "746         17.0       1977   0.309479         B         B        35   \n",
       "868         23.0       2011   0.060753         B         B        15   \n",
       "672         17.0       2014   0.072158         B         B         2   \n",
       "2471         9.0       1974   0.000000         B         B        33   \n",
       "4510        17.0       2014   0.007122         B         B         1   \n",
       "8354        16.0       1981   0.002212         B         B        39   \n",
       "\n",
       "      Social_2  Social_3  Healthcare_1  Helthcare_2  Shops_1 Shops_2  \n",
       "Id                                                                    \n",
       "4567      4378         0        1036.0            1        1       B  \n",
       "5925       629         1           NaN            0        0       A  \n",
       "960       1892         0           NaN            0        1       B  \n",
       "3848       475         0           NaN            0        0       B  \n",
       "746       7715         4         990.0            0        6       B  \n",
       "868       2787         2         520.0            0        7       B  \n",
       "672        629         1           NaN            0        0       A  \n",
       "2471      7425         1           NaN            2        5       B  \n",
       "4510       264         0           NaN            0        1       B  \n",
       "8354      7614         3           NaN            1        5       A  "
      ]
     },
     "execution_count": 5,
     "metadata": {},
     "output_type": "execute_result"
    }
   ],
   "source": [
    "X_final.head(10)"
   ]
  },
  {
   "cell_type": "code",
   "execution_count": 6,
   "id": "royal-alias",
   "metadata": {
    "execution": {
     "iopub.execute_input": "2021-06-27T23:28:20.156736Z",
     "iopub.status.busy": "2021-06-27T23:28:20.148893Z",
     "iopub.status.idle": "2021-06-27T23:28:20.160380Z",
     "shell.execute_reply": "2021-06-27T23:28:20.159726Z",
     "shell.execute_reply.started": "2021-06-27T23:08:23.337974Z"
    },
    "papermill": {
     "duration": 0.068773,
     "end_time": "2021-06-27T23:28:20.160528",
     "exception": false,
     "start_time": "2021-06-27T23:28:20.091755",
     "status": "completed"
    },
    "tags": []
   },
   "outputs": [],
   "source": [
    "X['DistrictId'] = X['DistrictId'].astype(str)\n",
    "X_final['DistrictId'] = X_final['DistrictId'].astype(str)"
   ]
  },
  {
   "cell_type": "code",
   "execution_count": 7,
   "id": "synthetic-mechanism",
   "metadata": {
    "execution": {
     "iopub.execute_input": "2021-06-27T23:28:20.263068Z",
     "iopub.status.busy": "2021-06-27T23:28:20.262106Z",
     "iopub.status.idle": "2021-06-27T23:28:20.266339Z",
     "shell.execute_reply": "2021-06-27T23:28:20.266786Z",
     "shell.execute_reply.started": "2021-06-27T23:08:26.097975Z"
    },
    "papermill": {
     "duration": 0.067274,
     "end_time": "2021-06-27T23:28:20.266955",
     "exception": false,
     "start_time": "2021-06-27T23:28:20.199681",
     "status": "completed"
    },
    "tags": []
   },
   "outputs": [
    {
     "data": {
      "text/html": [
       "<div>\n",
       "<style scoped>\n",
       "    .dataframe tbody tr th:only-of-type {\n",
       "        vertical-align: middle;\n",
       "    }\n",
       "\n",
       "    .dataframe tbody tr th {\n",
       "        vertical-align: top;\n",
       "    }\n",
       "\n",
       "    .dataframe thead th {\n",
       "        text-align: right;\n",
       "    }\n",
       "</style>\n",
       "<table border=\"1\" class=\"dataframe\">\n",
       "  <thead>\n",
       "    <tr style=\"text-align: right;\">\n",
       "      <th></th>\n",
       "      <th>DistrictId</th>\n",
       "      <th>Rooms</th>\n",
       "      <th>Square</th>\n",
       "      <th>LifeSquare</th>\n",
       "      <th>KitchenSquare</th>\n",
       "      <th>Floor</th>\n",
       "      <th>HouseFloor</th>\n",
       "      <th>HouseYear</th>\n",
       "      <th>Ecology_1</th>\n",
       "      <th>Ecology_2</th>\n",
       "      <th>Ecology_3</th>\n",
       "      <th>Social_1</th>\n",
       "      <th>Social_2</th>\n",
       "      <th>Social_3</th>\n",
       "      <th>Healthcare_1</th>\n",
       "      <th>Helthcare_2</th>\n",
       "      <th>Shops_1</th>\n",
       "      <th>Shops_2</th>\n",
       "    </tr>\n",
       "    <tr>\n",
       "      <th>Id</th>\n",
       "      <th></th>\n",
       "      <th></th>\n",
       "      <th></th>\n",
       "      <th></th>\n",
       "      <th></th>\n",
       "      <th></th>\n",
       "      <th></th>\n",
       "      <th></th>\n",
       "      <th></th>\n",
       "      <th></th>\n",
       "      <th></th>\n",
       "      <th></th>\n",
       "      <th></th>\n",
       "      <th></th>\n",
       "      <th></th>\n",
       "      <th></th>\n",
       "      <th></th>\n",
       "      <th></th>\n",
       "    </tr>\n",
       "  </thead>\n",
       "  <tbody>\n",
       "    <tr>\n",
       "      <th>11809</th>\n",
       "      <td>27</td>\n",
       "      <td>3.0</td>\n",
       "      <td>115.027311</td>\n",
       "      <td>NaN</td>\n",
       "      <td>10.0</td>\n",
       "      <td>4</td>\n",
       "      <td>10.0</td>\n",
       "      <td>2014</td>\n",
       "      <td>0.075424</td>\n",
       "      <td>B</td>\n",
       "      <td>B</td>\n",
       "      <td>11</td>\n",
       "      <td>3097</td>\n",
       "      <td>0</td>\n",
       "      <td>NaN</td>\n",
       "      <td>0</td>\n",
       "      <td>0</td>\n",
       "      <td>B</td>\n",
       "    </tr>\n",
       "    <tr>\n",
       "      <th>3013</th>\n",
       "      <td>22</td>\n",
       "      <td>1.0</td>\n",
       "      <td>39.832524</td>\n",
       "      <td>23.169223</td>\n",
       "      <td>8.0</td>\n",
       "      <td>7</td>\n",
       "      <td>8.0</td>\n",
       "      <td>1966</td>\n",
       "      <td>0.118537</td>\n",
       "      <td>B</td>\n",
       "      <td>B</td>\n",
       "      <td>30</td>\n",
       "      <td>6207</td>\n",
       "      <td>1</td>\n",
       "      <td>1183.0</td>\n",
       "      <td>1</td>\n",
       "      <td>0</td>\n",
       "      <td>B</td>\n",
       "    </tr>\n",
       "    <tr>\n",
       "      <th>8215</th>\n",
       "      <td>1</td>\n",
       "      <td>3.0</td>\n",
       "      <td>78.342215</td>\n",
       "      <td>47.671972</td>\n",
       "      <td>10.0</td>\n",
       "      <td>2</td>\n",
       "      <td>17.0</td>\n",
       "      <td>1988</td>\n",
       "      <td>0.025609</td>\n",
       "      <td>B</td>\n",
       "      <td>B</td>\n",
       "      <td>33</td>\n",
       "      <td>5261</td>\n",
       "      <td>0</td>\n",
       "      <td>240.0</td>\n",
       "      <td>3</td>\n",
       "      <td>1</td>\n",
       "      <td>B</td>\n",
       "    </tr>\n",
       "    <tr>\n",
       "      <th>2352</th>\n",
       "      <td>1</td>\n",
       "      <td>1.0</td>\n",
       "      <td>40.409907</td>\n",
       "      <td>NaN</td>\n",
       "      <td>1.0</td>\n",
       "      <td>10</td>\n",
       "      <td>22.0</td>\n",
       "      <td>1977</td>\n",
       "      <td>0.007122</td>\n",
       "      <td>B</td>\n",
       "      <td>B</td>\n",
       "      <td>1</td>\n",
       "      <td>264</td>\n",
       "      <td>0</td>\n",
       "      <td>NaN</td>\n",
       "      <td>0</td>\n",
       "      <td>1</td>\n",
       "      <td>B</td>\n",
       "    </tr>\n",
       "    <tr>\n",
       "      <th>13866</th>\n",
       "      <td>94</td>\n",
       "      <td>2.0</td>\n",
       "      <td>64.285067</td>\n",
       "      <td>38.562517</td>\n",
       "      <td>9.0</td>\n",
       "      <td>16</td>\n",
       "      <td>16.0</td>\n",
       "      <td>1972</td>\n",
       "      <td>0.282798</td>\n",
       "      <td>B</td>\n",
       "      <td>B</td>\n",
       "      <td>33</td>\n",
       "      <td>8667</td>\n",
       "      <td>2</td>\n",
       "      <td>NaN</td>\n",
       "      <td>0</td>\n",
       "      <td>6</td>\n",
       "      <td>B</td>\n",
       "    </tr>\n",
       "    <tr>\n",
       "      <th>5804</th>\n",
       "      <td>99</td>\n",
       "      <td>3.0</td>\n",
       "      <td>62.528465</td>\n",
       "      <td>47.103833</td>\n",
       "      <td>6.0</td>\n",
       "      <td>9</td>\n",
       "      <td>9.0</td>\n",
       "      <td>1972</td>\n",
       "      <td>0.012339</td>\n",
       "      <td>B</td>\n",
       "      <td>B</td>\n",
       "      <td>35</td>\n",
       "      <td>5776</td>\n",
       "      <td>1</td>\n",
       "      <td>2078.0</td>\n",
       "      <td>2</td>\n",
       "      <td>4</td>\n",
       "      <td>B</td>\n",
       "    </tr>\n",
       "    <tr>\n",
       "      <th>8864</th>\n",
       "      <td>44</td>\n",
       "      <td>1.0</td>\n",
       "      <td>33.938750</td>\n",
       "      <td>21.772930</td>\n",
       "      <td>9.0</td>\n",
       "      <td>1</td>\n",
       "      <td>12.0</td>\n",
       "      <td>1968</td>\n",
       "      <td>0.232205</td>\n",
       "      <td>B</td>\n",
       "      <td>B</td>\n",
       "      <td>24</td>\n",
       "      <td>4860</td>\n",
       "      <td>1</td>\n",
       "      <td>80.0</td>\n",
       "      <td>0</td>\n",
       "      <td>3</td>\n",
       "      <td>B</td>\n",
       "    </tr>\n",
       "    <tr>\n",
       "      <th>13072</th>\n",
       "      <td>59</td>\n",
       "      <td>2.0</td>\n",
       "      <td>50.391814</td>\n",
       "      <td>32.893256</td>\n",
       "      <td>8.0</td>\n",
       "      <td>8</td>\n",
       "      <td>17.0</td>\n",
       "      <td>1986</td>\n",
       "      <td>0.019509</td>\n",
       "      <td>B</td>\n",
       "      <td>B</td>\n",
       "      <td>37</td>\n",
       "      <td>7687</td>\n",
       "      <td>11</td>\n",
       "      <td>176.0</td>\n",
       "      <td>5</td>\n",
       "      <td>5</td>\n",
       "      <td>B</td>\n",
       "    </tr>\n",
       "  </tbody>\n",
       "</table>\n",
       "</div>"
      ],
      "text/plain": [
       "      DistrictId  Rooms      Square  LifeSquare  KitchenSquare  Floor  \\\n",
       "Id                                                                      \n",
       "11809         27    3.0  115.027311         NaN           10.0      4   \n",
       "3013          22    1.0   39.832524   23.169223            8.0      7   \n",
       "8215           1    3.0   78.342215   47.671972           10.0      2   \n",
       "2352           1    1.0   40.409907         NaN            1.0     10   \n",
       "13866         94    2.0   64.285067   38.562517            9.0     16   \n",
       "5804          99    3.0   62.528465   47.103833            6.0      9   \n",
       "8864          44    1.0   33.938750   21.772930            9.0      1   \n",
       "13072         59    2.0   50.391814   32.893256            8.0      8   \n",
       "\n",
       "       HouseFloor  HouseYear  Ecology_1 Ecology_2 Ecology_3  Social_1  \\\n",
       "Id                                                                      \n",
       "11809        10.0       2014   0.075424         B         B        11   \n",
       "3013          8.0       1966   0.118537         B         B        30   \n",
       "8215         17.0       1988   0.025609         B         B        33   \n",
       "2352         22.0       1977   0.007122         B         B         1   \n",
       "13866        16.0       1972   0.282798         B         B        33   \n",
       "5804          9.0       1972   0.012339         B         B        35   \n",
       "8864         12.0       1968   0.232205         B         B        24   \n",
       "13072        17.0       1986   0.019509         B         B        37   \n",
       "\n",
       "       Social_2  Social_3  Healthcare_1  Helthcare_2  Shops_1 Shops_2  \n",
       "Id                                                                     \n",
       "11809      3097         0           NaN            0        0       B  \n",
       "3013       6207         1        1183.0            1        0       B  \n",
       "8215       5261         0         240.0            3        1       B  \n",
       "2352        264         0           NaN            0        1       B  \n",
       "13866      8667         2           NaN            0        6       B  \n",
       "5804       5776         1        2078.0            2        4       B  \n",
       "8864       4860         1          80.0            0        3       B  \n",
       "13072      7687        11         176.0            5        5       B  "
      ]
     },
     "execution_count": 7,
     "metadata": {},
     "output_type": "execute_result"
    }
   ],
   "source": [
    "X.head(8)"
   ]
  },
  {
   "cell_type": "markdown",
   "id": "satellite-motivation",
   "metadata": {
    "papermill": {
     "duration": 0.039408,
     "end_time": "2021-06-27T23:28:20.346124",
     "exception": false,
     "start_time": "2021-06-27T23:28:20.306716",
     "status": "completed"
    },
    "tags": []
   },
   "source": [
    "2.EDA"
   ]
  },
  {
   "cell_type": "code",
   "execution_count": 8,
   "id": "detailed-birth",
   "metadata": {
    "execution": {
     "iopub.execute_input": "2021-06-27T23:28:20.432558Z",
     "iopub.status.busy": "2021-06-27T23:28:20.431857Z",
     "iopub.status.idle": "2021-06-27T23:28:20.436396Z",
     "shell.execute_reply": "2021-06-27T23:28:20.435781Z",
     "shell.execute_reply.started": "2021-06-27T23:08:29.721821Z"
    },
    "papermill": {
     "duration": 0.050706,
     "end_time": "2021-06-27T23:28:20.436550",
     "exception": false,
     "start_time": "2021-06-27T23:28:20.385844",
     "status": "completed"
    },
    "tags": []
   },
   "outputs": [
    {
     "data": {
      "text/plain": [
       "DistrictId        object\n",
       "Rooms            float64\n",
       "Square           float64\n",
       "LifeSquare       float64\n",
       "KitchenSquare    float64\n",
       "Floor              int64\n",
       "HouseFloor       float64\n",
       "HouseYear          int64\n",
       "Ecology_1        float64\n",
       "Ecology_2         object\n",
       "Ecology_3         object\n",
       "Social_1           int64\n",
       "Social_2           int64\n",
       "Social_3           int64\n",
       "Healthcare_1     float64\n",
       "Helthcare_2        int64\n",
       "Shops_1            int64\n",
       "Shops_2           object\n",
       "dtype: object"
      ]
     },
     "execution_count": 8,
     "metadata": {},
     "output_type": "execute_result"
    }
   ],
   "source": [
    "X.dtypes"
   ]
  },
  {
   "cell_type": "markdown",
   "id": "unusual-alert",
   "metadata": {
    "papermill": {
     "duration": 0.039544,
     "end_time": "2021-06-27T23:28:20.515944",
     "exception": false,
     "start_time": "2021-06-27T23:28:20.476400",
     "status": "completed"
    },
    "tags": []
   },
   "source": [
    "**3.Обработка выбросов.**"
   ]
  },
  {
   "cell_type": "code",
   "execution_count": 9,
   "id": "behind-peeing",
   "metadata": {
    "execution": {
     "iopub.execute_input": "2021-06-27T23:28:20.602565Z",
     "iopub.status.busy": "2021-06-27T23:28:20.601736Z",
     "iopub.status.idle": "2021-06-27T23:28:20.605747Z",
     "shell.execute_reply": "2021-06-27T23:28:20.605247Z",
     "shell.execute_reply.started": "2021-06-27T23:09:45.686938Z"
    },
    "papermill": {
     "duration": 0.050009,
     "end_time": "2021-06-27T23:28:20.605877",
     "exception": false,
     "start_time": "2021-06-27T23:28:20.555868",
     "status": "completed"
    },
    "tags": []
   },
   "outputs": [
    {
     "data": {
      "text/plain": [
       "DistrictId        object\n",
       "Rooms            float64\n",
       "Square           float64\n",
       "LifeSquare       float64\n",
       "KitchenSquare    float64\n",
       "Floor              int64\n",
       "HouseFloor       float64\n",
       "HouseYear          int64\n",
       "Ecology_1        float64\n",
       "Ecology_2         object\n",
       "Ecology_3         object\n",
       "Social_1           int64\n",
       "Social_2           int64\n",
       "Social_3           int64\n",
       "Healthcare_1     float64\n",
       "Helthcare_2        int64\n",
       "Shops_1            int64\n",
       "Shops_2           object\n",
       "dtype: object"
      ]
     },
     "execution_count": 9,
     "metadata": {},
     "output_type": "execute_result"
    }
   ],
   "source": [
    "X.dtypes"
   ]
  },
  {
   "cell_type": "markdown",
   "id": "suspended-acoustic",
   "metadata": {
    "papermill": {
     "duration": 0.039779,
     "end_time": "2021-06-27T23:28:20.687994",
     "exception": false,
     "start_time": "2021-06-27T23:28:20.648215",
     "status": "completed"
    },
    "tags": []
   },
   "source": [
    "1. **Rooms**"
   ]
  },
  {
   "cell_type": "code",
   "execution_count": 10,
   "id": "mobile-actor",
   "metadata": {
    "execution": {
     "iopub.execute_input": "2021-06-27T23:28:20.777303Z",
     "iopub.status.busy": "2021-06-27T23:28:20.776662Z",
     "iopub.status.idle": "2021-06-27T23:28:20.779398Z",
     "shell.execute_reply": "2021-06-27T23:28:20.779970Z",
     "shell.execute_reply.started": "2021-06-27T22:34:29.249048Z"
    },
    "papermill": {
     "duration": 0.051975,
     "end_time": "2021-06-27T23:28:20.780129",
     "exception": false,
     "start_time": "2021-06-27T23:28:20.728154",
     "status": "completed"
    },
    "tags": []
   },
   "outputs": [
    {
     "data": {
      "text/plain": [
       "2.0     3880\n",
       "1.0     3705\n",
       "3.0     2235\n",
       "4.0      150\n",
       "5.0       18\n",
       "0.0        8\n",
       "10.0       2\n",
       "6.0        1\n",
       "19.0       1\n",
       "Name: Rooms, dtype: int64"
      ]
     },
     "execution_count": 10,
     "metadata": {},
     "output_type": "execute_result"
    }
   ],
   "source": [
    "X['Rooms'].value_counts()\n",
    "# Считаем выбросами количество комнат > 6 комнат и количество комнат = 0"
   ]
  },
  {
   "cell_type": "markdown",
   "id": "mysterious-excess",
   "metadata": {
    "papermill": {
     "duration": 0.040098,
     "end_time": "2021-06-27T23:28:20.860584",
     "exception": false,
     "start_time": "2021-06-27T23:28:20.820486",
     "status": "completed"
    },
    "tags": []
   },
   "source": [
    "2. **KitchenSquare**"
   ]
  },
  {
   "cell_type": "code",
   "execution_count": 11,
   "id": "occupational-arrival",
   "metadata": {
    "execution": {
     "iopub.execute_input": "2021-06-27T23:28:20.943733Z",
     "iopub.status.busy": "2021-06-27T23:28:20.943104Z",
     "iopub.status.idle": "2021-06-27T23:28:20.952971Z",
     "shell.execute_reply": "2021-06-27T23:28:20.953628Z",
     "shell.execute_reply.started": "2021-06-27T22:35:33.767146Z"
    },
    "papermill": {
     "duration": 0.053034,
     "end_time": "2021-06-27T23:28:20.953798",
     "exception": false,
     "start_time": "2021-06-27T23:28:20.900764",
     "status": "completed"
    },
    "tags": []
   },
   "outputs": [
    {
     "data": {
      "text/plain": [
       "75.0         1\n",
       "39.0         1\n",
       "23.0         1\n",
       "123.0        1\n",
       "40.0         1\n",
       "48.0         1\n",
       "21.0         1\n",
       "72.0         1\n",
       "27.0         1\n",
       "63.0         1\n",
       "1970.0       1\n",
       "29.0         1\n",
       "2014.0       1\n",
       "66.0         1\n",
       "78.0         1\n",
       "35.0         1\n",
       "42.0         1\n",
       "73.0         1\n",
       "60.0         1\n",
       "84.0         1\n",
       "26.0         1\n",
       "54.0         1\n",
       "36.0         1\n",
       "53.0         1\n",
       "96.0         1\n",
       "31.0         1\n",
       "62.0         1\n",
       "30.0         2\n",
       "25.0         2\n",
       "43.0         2\n",
       "32.0         2\n",
       "37.0         2\n",
       "58.0         2\n",
       "51.0         2\n",
       "112.0        2\n",
       "41.0         2\n",
       "22.0         3\n",
       "2.0          4\n",
       "18.0         6\n",
       "19.0        11\n",
       "17.0        12\n",
       "20.0        14\n",
       "16.0        16\n",
       "3.0         22\n",
       "15.0        31\n",
       "4.0         39\n",
       "14.0        51\n",
       "13.0        67\n",
       "11.0       233\n",
       "12.0       249\n",
       "7.0        609\n",
       "0.0        697\n",
       "9.0        843\n",
       "6.0       1038\n",
       "10.0      1075\n",
       "5.0       1169\n",
       "8.0       1306\n",
       "1.0       2460\n",
       "Name: KitchenSquare, dtype: int64"
      ]
     },
     "execution_count": 11,
     "metadata": {},
     "output_type": "execute_result"
    }
   ],
   "source": [
    "X['KitchenSquare'].value_counts().sort_values()\n",
    "# Считаем выбросами Площадь < 3 и Площадь KitchenSquare > 30 м2"
   ]
  },
  {
   "cell_type": "markdown",
   "id": "headed-tulsa",
   "metadata": {
    "papermill": {
     "duration": 0.041772,
     "end_time": "2021-06-27T23:28:21.037191",
     "exception": false,
     "start_time": "2021-06-27T23:28:20.995419",
     "status": "completed"
    },
    "tags": []
   },
   "source": [
    "3. **HouseFloor**"
   ]
  },
  {
   "cell_type": "code",
   "execution_count": 12,
   "id": "pediatric-manchester",
   "metadata": {
    "execution": {
     "iopub.execute_input": "2021-06-27T23:28:21.122713Z",
     "iopub.status.busy": "2021-06-27T23:28:21.122056Z",
     "iopub.status.idle": "2021-06-27T23:28:21.131012Z",
     "shell.execute_reply": "2021-06-27T23:28:21.131502Z",
     "shell.execute_reply.started": "2021-06-27T22:40:26.867427Z"
    },
    "papermill": {
     "duration": 0.053255,
     "end_time": "2021-06-27T23:28:21.131689",
     "exception": false,
     "start_time": "2021-06-27T23:28:21.078434",
     "status": "completed"
    },
    "tags": []
   },
   "outputs": [
    {
     "data": {
      "text/plain": [
       "array([  0.,   1.,   2.,   3.,   4.,   5.,   6.,   7.,   8.,   9.,  10.,\n",
       "        11.,  12.,  13.,  14.,  15.,  16.,  17.,  18.,  19.,  20.,  21.,\n",
       "        22.,  23.,  24.,  25.,  26.,  27.,  28.,  29.,  30.,  31.,  32.,\n",
       "        36.,  37.,  38.,  39.,  40.,  44.,  45.,  47.,  48.,  99., 117.])"
      ]
     },
     "execution_count": 12,
     "metadata": {},
     "output_type": "execute_result"
    }
   ],
   "source": [
    "X['HouseFloor'].sort_values().unique()  # количество этажей в доме"
   ]
  },
  {
   "cell_type": "code",
   "execution_count": 13,
   "id": "recreational-decision",
   "metadata": {
    "execution": {
     "iopub.execute_input": "2021-06-27T23:28:21.217160Z",
     "iopub.status.busy": "2021-06-27T23:28:21.216582Z",
     "iopub.status.idle": "2021-06-27T23:28:21.226799Z",
     "shell.execute_reply": "2021-06-27T23:28:21.226309Z",
     "shell.execute_reply.started": "2021-06-27T22:40:42.637550Z"
    },
    "papermill": {
     "duration": 0.053891,
     "end_time": "2021-06-27T23:28:21.226933",
     "exception": false,
     "start_time": "2021-06-27T23:28:21.173042",
     "status": "completed"
    },
    "tags": []
   },
   "outputs": [
    {
     "data": {
      "text/plain": [
       "26.0        1\n",
       "29.0        1\n",
       "44.0        1\n",
       "47.0        1\n",
       "45.0        1\n",
       "31.0        1\n",
       "38.0        1\n",
       "117.0       1\n",
       "36.0        1\n",
       "39.0        2\n",
       "99.0        2\n",
       "48.0        2\n",
       "28.0        3\n",
       "32.0        4\n",
       "37.0        4\n",
       "27.0        6\n",
       "40.0        7\n",
       "30.0       21\n",
       "13.0       27\n",
       "11.0       28\n",
       "21.0       33\n",
       "23.0       40\n",
       "2.0        48\n",
       "6.0        58\n",
       "7.0        59\n",
       "18.0       89\n",
       "20.0      105\n",
       "19.0      108\n",
       "15.0      123\n",
       "3.0       127\n",
       "4.0       134\n",
       "10.0      135\n",
       "8.0       141\n",
       "24.0      176\n",
       "0.0       269\n",
       "22.0      343\n",
       "25.0      374\n",
       "1.0       497\n",
       "16.0      576\n",
       "14.0      625\n",
       "5.0      1031\n",
       "12.0     1074\n",
       "9.0      1389\n",
       "17.0     2331\n",
       "Name: HouseFloor, dtype: int64"
      ]
     },
     "execution_count": 13,
     "metadata": {},
     "output_type": "execute_result"
    }
   ],
   "source": [
    "np.around(X['HouseFloor']).value_counts().sort_values()\n",
    "# Считаем выбросами Площадь HouseFloor < 1 и HouseFloor > 50"
   ]
  },
  {
   "cell_type": "markdown",
   "id": "adjustable-huntington",
   "metadata": {
    "papermill": {
     "duration": 0.04112,
     "end_time": "2021-06-27T23:28:21.309698",
     "exception": false,
     "start_time": "2021-06-27T23:28:21.268578",
     "status": "completed"
    },
    "tags": []
   },
   "source": [
    "4. **Floor**"
   ]
  },
  {
   "cell_type": "code",
   "execution_count": 14,
   "id": "spectacular-stations",
   "metadata": {
    "execution": {
     "iopub.execute_input": "2021-06-27T23:28:21.398061Z",
     "iopub.status.busy": "2021-06-27T23:28:21.396559Z",
     "iopub.status.idle": "2021-06-27T23:28:21.404616Z",
     "shell.execute_reply": "2021-06-27T23:28:21.404027Z",
     "shell.execute_reply.started": "2021-06-27T22:41:14.695943Z"
    },
    "papermill": {
     "duration": 0.053687,
     "end_time": "2021-06-27T23:28:21.404751",
     "exception": false,
     "start_time": "2021-06-27T23:28:21.351064",
     "status": "completed"
    },
    "tags": []
   },
   "outputs": [
    {
     "data": {
      "text/plain": [
       "31      1\n",
       "37      1\n",
       "42      1\n",
       "33      1\n",
       "32      2\n",
       "28      3\n",
       "27      5\n",
       "26     18\n",
       "23     25\n",
       "25     34\n",
       "24     53\n",
       "22     54\n",
       "21     59\n",
       "20     68\n",
       "19    121\n",
       "18    185\n",
       "1     235\n",
       "17    256\n",
       "15    287\n",
       "16    290\n",
       "14    362\n",
       "13    398\n",
       "12    438\n",
       "11    457\n",
       "10    553\n",
       "2     588\n",
       "9     604\n",
       "8     643\n",
       "7     759\n",
       "6     802\n",
       "3     872\n",
       "5     876\n",
       "4     949\n",
       "Name: Floor, dtype: int64"
      ]
     },
     "execution_count": 14,
     "metadata": {},
     "output_type": "execute_result"
    }
   ],
   "source": [
    "X['Floor'].value_counts().sort_values() # этаж"
   ]
  },
  {
   "cell_type": "code",
   "execution_count": 15,
   "id": "recognized-casino",
   "metadata": {
    "execution": {
     "iopub.execute_input": "2021-06-27T23:28:21.492604Z",
     "iopub.status.busy": "2021-06-27T23:28:21.491900Z",
     "iopub.status.idle": "2021-06-27T23:28:21.497118Z",
     "shell.execute_reply": "2021-06-27T23:28:21.497592Z",
     "shell.execute_reply.started": "2021-06-27T22:46:50.062504Z"
    },
    "papermill": {
     "duration": 0.0506,
     "end_time": "2021-06-27T23:28:21.497763",
     "exception": false,
     "start_time": "2021-06-27T23:28:21.447163",
     "status": "completed"
    },
    "tags": []
   },
   "outputs": [
    {
     "data": {
      "text/plain": [
       "1825"
      ]
     },
     "execution_count": 15,
     "metadata": {},
     "output_type": "execute_result"
    }
   ],
   "source": [
    "(X['Floor'] > X['HouseFloor']).sum()"
   ]
  },
  {
   "cell_type": "markdown",
   "id": "light-appraisal",
   "metadata": {
    "papermill": {
     "duration": 0.041749,
     "end_time": "2021-06-27T23:28:21.582157",
     "exception": false,
     "start_time": "2021-06-27T23:28:21.540408",
     "status": "completed"
    },
    "tags": []
   },
   "source": [
    "5. **HouseYear**"
   ]
  },
  {
   "cell_type": "code",
   "execution_count": 16,
   "id": "medium-morocco",
   "metadata": {
    "execution": {
     "iopub.execute_input": "2021-06-27T23:28:21.670973Z",
     "iopub.status.busy": "2021-06-27T23:28:21.670334Z",
     "iopub.status.idle": "2021-06-27T23:28:21.676606Z",
     "shell.execute_reply": "2021-06-27T23:28:21.677123Z",
     "shell.execute_reply.started": "2021-06-27T22:52:35.759310Z"
    },
    "papermill": {
     "duration": 0.052701,
     "end_time": "2021-06-27T23:28:21.677302",
     "exception": false,
     "start_time": "2021-06-27T23:28:21.624601",
     "status": "completed"
    },
    "tags": []
   },
   "outputs": [
    {
     "data": {
      "text/plain": [
       "array([    1910,     1912,     1914,     1916,     1917,     1918,\n",
       "           1919,     1928,     1929,     1930,     1931,     1932,\n",
       "           1933,     1934,     1935,     1936,     1937,     1938,\n",
       "           1939,     1940,     1941,     1942,     1947,     1948,\n",
       "           1950,     1951,     1952,     1953,     1954,     1955,\n",
       "           1956,     1957,     1958,     1959,     1960,     1961,\n",
       "           1962,     1963,     1964,     1965,     1966,     1967,\n",
       "           1968,     1969,     1970,     1971,     1972,     1973,\n",
       "           1974,     1975,     1976,     1977,     1978,     1979,\n",
       "           1980,     1981,     1982,     1983,     1984,     1985,\n",
       "           1986,     1987,     1988,     1989,     1990,     1991,\n",
       "           1992,     1993,     1994,     1995,     1996,     1997,\n",
       "           1998,     1999,     2000,     2001,     2002,     2003,\n",
       "           2004,     2005,     2006,     2007,     2008,     2009,\n",
       "           2010,     2011,     2012,     2013,     2014,     2015,\n",
       "           2016,     2017,     2018,     2019,     2020,     4968,\n",
       "       20052011])"
      ]
     },
     "execution_count": 16,
     "metadata": {},
     "output_type": "execute_result"
    }
   ],
   "source": [
    "X['HouseYear'].sort_values().unique()"
   ]
  },
  {
   "cell_type": "code",
   "execution_count": 17,
   "id": "amended-carnival",
   "metadata": {
    "execution": {
     "iopub.execute_input": "2021-06-27T23:28:21.765365Z",
     "iopub.status.busy": "2021-06-27T23:28:21.764767Z",
     "iopub.status.idle": "2021-06-27T23:28:21.786977Z",
     "shell.execute_reply": "2021-06-27T23:28:21.786466Z",
     "shell.execute_reply.started": "2021-06-27T22:52:53.485793Z"
    },
    "papermill": {
     "duration": 0.067237,
     "end_time": "2021-06-27T23:28:21.787111",
     "exception": false,
     "start_time": "2021-06-27T23:28:21.719874",
     "status": "completed"
    },
    "tags": []
   },
   "outputs": [
    {
     "data": {
      "text/html": [
       "<div>\n",
       "<style scoped>\n",
       "    .dataframe tbody tr th:only-of-type {\n",
       "        vertical-align: middle;\n",
       "    }\n",
       "\n",
       "    .dataframe tbody tr th {\n",
       "        vertical-align: top;\n",
       "    }\n",
       "\n",
       "    .dataframe thead th {\n",
       "        text-align: right;\n",
       "    }\n",
       "</style>\n",
       "<table border=\"1\" class=\"dataframe\">\n",
       "  <thead>\n",
       "    <tr style=\"text-align: right;\">\n",
       "      <th></th>\n",
       "      <th>DistrictId</th>\n",
       "      <th>Rooms</th>\n",
       "      <th>Square</th>\n",
       "      <th>LifeSquare</th>\n",
       "      <th>KitchenSquare</th>\n",
       "      <th>Floor</th>\n",
       "      <th>HouseFloor</th>\n",
       "      <th>HouseYear</th>\n",
       "      <th>Ecology_1</th>\n",
       "      <th>Ecology_2</th>\n",
       "      <th>Ecology_3</th>\n",
       "      <th>Social_1</th>\n",
       "      <th>Social_2</th>\n",
       "      <th>Social_3</th>\n",
       "      <th>Healthcare_1</th>\n",
       "      <th>Helthcare_2</th>\n",
       "      <th>Shops_1</th>\n",
       "      <th>Shops_2</th>\n",
       "    </tr>\n",
       "    <tr>\n",
       "      <th>Id</th>\n",
       "      <th></th>\n",
       "      <th></th>\n",
       "      <th></th>\n",
       "      <th></th>\n",
       "      <th></th>\n",
       "      <th></th>\n",
       "      <th></th>\n",
       "      <th></th>\n",
       "      <th></th>\n",
       "      <th></th>\n",
       "      <th></th>\n",
       "      <th></th>\n",
       "      <th></th>\n",
       "      <th></th>\n",
       "      <th></th>\n",
       "      <th></th>\n",
       "      <th></th>\n",
       "      <th></th>\n",
       "    </tr>\n",
       "  </thead>\n",
       "  <tbody>\n",
       "    <tr>\n",
       "      <th>11607</th>\n",
       "      <td>147</td>\n",
       "      <td>2.0</td>\n",
       "      <td>44.791836</td>\n",
       "      <td>28.360393</td>\n",
       "      <td>5.0</td>\n",
       "      <td>4</td>\n",
       "      <td>9.0</td>\n",
       "      <td>4968</td>\n",
       "      <td>0.319809</td>\n",
       "      <td>B</td>\n",
       "      <td>B</td>\n",
       "      <td>25</td>\n",
       "      <td>4756</td>\n",
       "      <td>16</td>\n",
       "      <td>2857.0</td>\n",
       "      <td>5</td>\n",
       "      <td>8</td>\n",
       "      <td>B</td>\n",
       "    </tr>\n",
       "    <tr>\n",
       "      <th>10814</th>\n",
       "      <td>109</td>\n",
       "      <td>1.0</td>\n",
       "      <td>37.265070</td>\n",
       "      <td>20.239714</td>\n",
       "      <td>9.0</td>\n",
       "      <td>9</td>\n",
       "      <td>12.0</td>\n",
       "      <td>20052011</td>\n",
       "      <td>0.136330</td>\n",
       "      <td>B</td>\n",
       "      <td>B</td>\n",
       "      <td>30</td>\n",
       "      <td>6141</td>\n",
       "      <td>10</td>\n",
       "      <td>262.0</td>\n",
       "      <td>3</td>\n",
       "      <td>6</td>\n",
       "      <td>B</td>\n",
       "    </tr>\n",
       "  </tbody>\n",
       "</table>\n",
       "</div>"
      ],
      "text/plain": [
       "      DistrictId  Rooms     Square  LifeSquare  KitchenSquare  Floor  \\\n",
       "Id                                                                     \n",
       "11607        147    2.0  44.791836   28.360393            5.0      4   \n",
       "10814        109    1.0  37.265070   20.239714            9.0      9   \n",
       "\n",
       "       HouseFloor  HouseYear  Ecology_1 Ecology_2 Ecology_3  Social_1  \\\n",
       "Id                                                                      \n",
       "11607         9.0       4968   0.319809         B         B        25   \n",
       "10814        12.0   20052011   0.136330         B         B        30   \n",
       "\n",
       "       Social_2  Social_3  Healthcare_1  Helthcare_2  Shops_1 Shops_2  \n",
       "Id                                                                     \n",
       "11607      4756        16        2857.0            5        8       B  \n",
       "10814      6141        10         262.0            3        6       B  "
      ]
     },
     "execution_count": 17,
     "metadata": {},
     "output_type": "execute_result"
    }
   ],
   "source": [
    "X[X['HouseYear'] > 2020].head()"
   ]
  },
  {
   "cell_type": "markdown",
   "id": "enormous-subject",
   "metadata": {
    "papermill": {
     "duration": 0.043749,
     "end_time": "2021-06-27T23:28:21.875109",
     "exception": false,
     "start_time": "2021-06-27T23:28:21.831360",
     "status": "completed"
    },
    "tags": []
   },
   "source": [
    "**4.Обработка пропусков.**"
   ]
  },
  {
   "cell_type": "code",
   "execution_count": 18,
   "id": "advisory-gossip",
   "metadata": {
    "execution": {
     "iopub.execute_input": "2021-06-27T23:28:21.972903Z",
     "iopub.status.busy": "2021-06-27T23:28:21.972259Z",
     "iopub.status.idle": "2021-06-27T23:28:22.285597Z",
     "shell.execute_reply": "2021-06-27T23:28:22.286076Z",
     "shell.execute_reply.started": "2021-06-27T23:13:30.014541Z"
    },
    "papermill": {
     "duration": 0.367629,
     "end_time": "2021-06-27T23:28:22.286279",
     "exception": false,
     "start_time": "2021-06-27T23:28:21.918650",
     "status": "completed"
    },
    "tags": []
   },
   "outputs": [
    {
     "data": {
      "image/png": "[encoded data removed]",
      "text/plain": [
       "<Figure size 1152x288 with 1 Axes>"
      ]
     },
     "metadata": {
      "needs_background": "light"
     },
     "output_type": "display_data"
    }
   ],
   "source": [
    "import seaborn as sns\n",
    "\n",
    "nan_df = (X.isna().sum() / X.shape[0]).reset_index()\n",
    "nan_df.columns=['feature', 'nan_percent']\n",
    "\n",
    "plt.figure(figsize=(16,4))\n",
    "sns.barplot(nan_df['feature'], nan_df['nan_percent'])\n",
    "plt.title('Percent Missing')\n",
    "plt.ylabel('Missing', fontsize=12)\n",
    "plt.xlabel('Features', fontsize=12)\n",
    "plt.xticks(rotation=90)\n",
    "plt.show()"
   ]
  },
  {
   "cell_type": "markdown",
   "id": "interstate-construction",
   "metadata": {
    "papermill": {
     "duration": 0.045226,
     "end_time": "2021-06-27T23:28:22.376292",
     "exception": false,
     "start_time": "2021-06-27T23:28:22.331066",
     "status": "completed"
    },
    "tags": []
   },
   "source": [
    "Из-за большого кол-ва пропусков необходимо удалить признак Healthcare_1. Также необходимо заполнить признак LifeSquare."
   ]
  },
  {
   "cell_type": "markdown",
   "id": "limited-producer",
   "metadata": {
    "papermill": {
     "duration": 0.0439,
     "end_time": "2021-06-27T23:28:22.464186",
     "exception": false,
     "start_time": "2021-06-27T23:28:22.420286",
     "status": "completed"
    },
    "tags": []
   },
   "source": [
    "**DistrictId**"
   ]
  },
  {
   "cell_type": "code",
   "execution_count": 19,
   "id": "behind-optimization",
   "metadata": {
    "execution": {
     "iopub.execute_input": "2021-06-27T23:28:22.556263Z",
     "iopub.status.busy": "2021-06-27T23:28:22.555341Z",
     "iopub.status.idle": "2021-06-27T23:28:22.563043Z",
     "shell.execute_reply": "2021-06-27T23:28:22.563495Z",
     "shell.execute_reply.started": "2021-06-27T23:16:25.679363Z"
    },
    "papermill": {
     "duration": 0.055366,
     "end_time": "2021-06-27T23:28:22.563673",
     "exception": false,
     "start_time": "2021-06-27T23:28:22.508307",
     "status": "completed"
    },
    "tags": []
   },
   "outputs": [
    {
     "data": {
      "text/plain": [
       "205"
      ]
     },
     "execution_count": 19,
     "metadata": {},
     "output_type": "execute_result"
    }
   ],
   "source": [
    "X.DistrictId.nunique()"
   ]
  },
  {
   "cell_type": "code",
   "execution_count": 20,
   "id": "advised-nelson",
   "metadata": {
    "execution": {
     "iopub.execute_input": "2021-06-27T23:28:22.656087Z",
     "iopub.status.busy": "2021-06-27T23:28:22.655155Z",
     "iopub.status.idle": "2021-06-27T23:28:22.672886Z",
     "shell.execute_reply": "2021-06-27T23:28:22.673411Z",
     "shell.execute_reply.started": "2021-06-27T23:08:51.059726Z"
    },
    "papermill": {
     "duration": 0.065644,
     "end_time": "2021-06-27T23:28:22.673577",
     "exception": false,
     "start_time": "2021-06-27T23:28:22.607933",
     "status": "completed"
    },
    "tags": []
   },
   "outputs": [
    {
     "data": {
      "text/plain": [
       "{'27': 851,\n",
       " '1': 652,\n",
       " '23': 565,\n",
       " '6': 511,\n",
       " '9': 294,\n",
       " '62': 247,\n",
       " '30': 228,\n",
       " '58': 179,\n",
       " '53': 174,\n",
       " '21': 165,\n",
       " '52': 143,\n",
       " '8': 142,\n",
       " '11': 129,\n",
       " '46': 119,\n",
       " '61': 118,\n",
       " '45': 116,\n",
       " '74': 114,\n",
       " '34': 111,\n",
       " '57': 107,\n",
       " '44': 104,\n",
       " '101': 97,\n",
       " '99': 97,\n",
       " '13': 97,\n",
       " '47': 97,\n",
       " '7': 92,\n",
       " '48': 90,\n",
       " '29': 89,\n",
       " '94': 89,\n",
       " '41': 87,\n",
       " '3': 82,\n",
       " '84': 80,\n",
       " '28': 79,\n",
       " '2': 78,\n",
       " '22': 78,\n",
       " '25': 77,\n",
       " '85': 76,\n",
       " '93': 73,\n",
       " '37': 72,\n",
       " '90': 72,\n",
       " '96': 71,\n",
       " '59': 67,\n",
       " '75': 66,\n",
       " '26': 65,\n",
       " '12': 64,\n",
       " '88': 64,\n",
       " '128': 64,\n",
       " '66': 62,\n",
       " '67': 61,\n",
       " '17': 59,\n",
       " '55': 58,\n",
       " '39': 57,\n",
       " '10': 56,\n",
       " '31': 55,\n",
       " '105': 55,\n",
       " '18': 51,\n",
       " '119': 49,\n",
       " '111': 49,\n",
       " '0': 48,\n",
       " '78': 46,\n",
       " '91': 44,\n",
       " '129': 43,\n",
       " '63': 43,\n",
       " '124': 43,\n",
       " '79': 42,\n",
       " '42': 42,\n",
       " '109': 41,\n",
       " '113': 41,\n",
       " '77': 40,\n",
       " '54': 37,\n",
       " '15': 36,\n",
       " '38': 36,\n",
       " '24': 35,\n",
       " '32': 34,\n",
       " '5': 34,\n",
       " '56': 34,\n",
       " '103': 33,\n",
       " '123': 32,\n",
       " '19': 31,\n",
       " '33': 31,\n",
       " '80': 31,\n",
       " '83': 31,\n",
       " '69': 29,\n",
       " '138': 29,\n",
       " '130': 29,\n",
       " '64': 28,\n",
       " '86': 27,\n",
       " '87': 27,\n",
       " '70': 27,\n",
       " '108': 27,\n",
       " '120': 26,\n",
       " '121': 25,\n",
       " '122': 25,\n",
       " '100': 25,\n",
       " '20': 24,\n",
       " '89': 24,\n",
       " '107': 23,\n",
       " '169': 22,\n",
       " '35': 22,\n",
       " '98': 21,\n",
       " '144': 20,\n",
       " '167': 20,\n",
       " '145': 19,\n",
       " '146': 18,\n",
       " '134': 18,\n",
       " '81': 18,\n",
       " '73': 17,\n",
       " '14': 17,\n",
       " '36': 17,\n",
       " '170': 16,\n",
       " '49': 16,\n",
       " '125': 15,\n",
       " '95': 15,\n",
       " '147': 15,\n",
       " '157': 15,\n",
       " '151': 14,\n",
       " '139': 14,\n",
       " '163': 14,\n",
       " '110': 13,\n",
       " '118': 13,\n",
       " '140': 13,\n",
       " '114': 12,\n",
       " '132': 12,\n",
       " '92': 12,\n",
       " '104': 11,\n",
       " '161': 11,\n",
       " '116': 11,\n",
       " '142': 11,\n",
       " '4': 11,\n",
       " '168': 11,\n",
       " '126': 11,\n",
       " '143': 11,\n",
       " '148': 11,\n",
       " '40': 11,\n",
       " '155': 10,\n",
       " '187': 10,\n",
       " '154': 10,\n",
       " '97': 10,\n",
       " '177': 10,\n",
       " '106': 10,\n",
       " '72': 10,\n",
       " '127': 10,\n",
       " '160': 10,\n",
       " '156': 10,\n",
       " '150': 10,\n",
       " '43': 9,\n",
       " '60': 9,\n",
       " '137': 9,\n",
       " '135': 9,\n",
       " '164': 8,\n",
       " '183': 8,\n",
       " '102': 8,\n",
       " '162': 8,\n",
       " '68': 8,\n",
       " '178': 7,\n",
       " '152': 7,\n",
       " '190': 7,\n",
       " '173': 7,\n",
       " '71': 7,\n",
       " '16': 6,\n",
       " '165': 6,\n",
       " '191': 6,\n",
       " '131': 6,\n",
       " '153': 6,\n",
       " '171': 6,\n",
       " '159': 6,\n",
       " '200': 6,\n",
       " '149': 6,\n",
       " '76': 6,\n",
       " '176': 6,\n",
       " '82': 5,\n",
       " '194': 5,\n",
       " '141': 5,\n",
       " '133': 5,\n",
       " '188': 5,\n",
       " '189': 5,\n",
       " '192': 5,\n",
       " '65': 5,\n",
       " '51': 5,\n",
       " '115': 5,\n",
       " '184': 5,\n",
       " '166': 5,\n",
       " '112': 4,\n",
       " '50': 4,\n",
       " '180': 4,\n",
       " '179': 4,\n",
       " '136': 4,\n",
       " '182': 4,\n",
       " '185': 3,\n",
       " '193': 3,\n",
       " '181': 3,\n",
       " '175': 3,\n",
       " '201': 3,\n",
       " '186': 2,\n",
       " '208': 2,\n",
       " '158': 2,\n",
       " '195': 2,\n",
       " '202': 2,\n",
       " '172': 2,\n",
       " '174': 1,\n",
       " '207': 1,\n",
       " '209': 1,\n",
       " '196': 1,\n",
       " '205': 1,\n",
       " '117': 1,\n",
       " '199': 1}"
      ]
     },
     "execution_count": 20,
     "metadata": {},
     "output_type": "execute_result"
    }
   ],
   "source": [
    "dict(X['DistrictId'].value_counts())"
   ]
  },
  {
   "cell_type": "markdown",
   "id": "democratic-compatibility",
   "metadata": {
    "papermill": {
     "duration": 0.045414,
     "end_time": "2021-06-27T23:28:22.763987",
     "exception": false,
     "start_time": "2021-06-27T23:28:22.718573",
     "status": "completed"
    },
    "tags": []
   },
   "source": [
    "**5.Очистка данных.**"
   ]
  },
  {
   "cell_type": "code",
   "execution_count": 21,
   "id": "accessible-cartridge",
   "metadata": {
    "execution": {
     "iopub.execute_input": "2021-06-27T23:28:22.859256Z",
     "iopub.status.busy": "2021-06-27T23:28:22.858231Z",
     "iopub.status.idle": "2021-06-27T23:28:22.873602Z",
     "shell.execute_reply": "2021-06-27T23:28:22.874075Z",
     "shell.execute_reply.started": "2021-06-27T23:20:31.161940Z"
    },
    "papermill": {
     "duration": 0.06525,
     "end_time": "2021-06-27T23:28:22.874275",
     "exception": false,
     "start_time": "2021-06-27T23:28:22.809025",
     "status": "completed"
    },
    "tags": []
   },
   "outputs": [],
   "source": [
    "class F_Imputer:\n",
    "    \n",
    "    \"\"\"Gap filling and emission handling\"\"\"\n",
    "    \n",
    "    def __init__(self):\n",
    "        self.medians=None\n",
    "        \n",
    "    def fit(self, X):\n",
    "        self.medians = X.median()\n",
    "    \n",
    "    def transform(self, X):\n",
    "        \n",
    "        # Rooms\n",
    "        X['Rooms_outlier'] = 0\n",
    "        X.loc[(X['Rooms'] == 0) | (X['Rooms'] >= 6), 'Rooms_outlier'] = 1\n",
    "        \n",
    "        X.loc[X['Rooms'] == 0, 'Rooms'] = 1\n",
    "        X.loc[X['Rooms'] >= 6, 'Rooms'] = self.medians['Rooms']\n",
    "        \n",
    "        # KitchenSquare\n",
    "        X.loc[X['KitchenSquare'] < 3, 'KitchenSquare'] = 3\n",
    "        X.loc[X['KitchenSquare'] > 1000, 'KitchenSquare'] = X.loc[X['KitchenSquare'] > 1000, 'KitchenSquare'] / 10\n",
    "        \n",
    "        # HouseFloor, Floor\n",
    "        X['HouseFloor_outlier'] = 0\n",
    "        X.loc[X['HouseFloor'] == 0, 'HouseFloor_outlier'] = 1\n",
    "        X.loc[X['Floor'] > X['HouseFloor'], 'HouseFloor_outlier'] = 1\n",
    "        \n",
    "        X.loc[X['HouseFloor'] == 0, 'HouseFloor'] = self.medians['HouseFloor']\n",
    "        X.loc[X['Floor'] > X['HouseFloor'], 'Floor'] = X.loc[X['Floor'] > X['HouseFloor'], 'HouseFloor']\n",
    "        \n",
    "        # HouseYear\n",
    "        current_year = now = datetime.datetime.now().year\n",
    "        \n",
    "        X['HouseYear_outlier'] = 0\n",
    "        X.loc[X['HouseYear'] > current_year, 'HouseYear_outlier'] = 1\n",
    "        \n",
    "        X.loc[X['HouseYear'] > current_year, 'HouseYear'] = current_year\n",
    "        \n",
    "        # Healthcare_1\n",
    "        if 'Healthcare_1' in X.columns:\n",
    "            X.drop('Healthcare_1', axis=1, inplace=True)\n",
    "            \n",
    "        # LifeSquare\n",
    "        X['LifeSquare_nan'] = X['LifeSquare'].isna() * 1\n",
    "        \n",
    "        condition = (X['LifeSquare'].isna()) &\\\n",
    "                      (~X['Square'].isna()) & \\\n",
    "                      (~X['KitchenSquare'].isna())\n",
    "        \n",
    "        X.loc[condition, 'LifeSquare'] = X.loc[condition, 'Square'] - X.loc[condition, 'LifeSquare'] - X.loc[condition, 'KitchenSquare']\n",
    "        \n",
    "        # Square\n",
    "        X.loc[X['Square'] > 400, 'Square'] = X.loc[X['Square'] > 400, 'Square'] / 10\n",
    "        \n",
    "        # HouseYear\n",
    "        \n",
    "        X.loc[X['HouseYear'] == 20052011, 'HouseYear'] = int((2005 + 2011) / 2)\n",
    "        X.loc[X['HouseYear'] == 4968, 'HouseYear'] = 1968\n",
    "        \n",
    "        return X"
   ]
  },
  {
   "cell_type": "code",
   "execution_count": 22,
   "id": "maritime-resource",
   "metadata": {
    "execution": {
     "iopub.execute_input": "2021-06-27T23:28:22.968840Z",
     "iopub.status.busy": "2021-06-27T23:28:22.967901Z",
     "iopub.status.idle": "2021-06-27T23:28:23.024080Z",
     "shell.execute_reply": "2021-06-27T23:28:23.024585Z",
     "shell.execute_reply.started": "2021-06-27T23:20:43.303013Z"
    },
    "papermill": {
     "duration": 0.105307,
     "end_time": "2021-06-27T23:28:23.024779",
     "exception": false,
     "start_time": "2021-06-27T23:28:22.919472",
     "status": "completed"
    },
    "tags": []
   },
   "outputs": [],
   "source": [
    "imputer = F_Imputer()\n",
    "\n",
    "imputer.fit(X)\n",
    "\n",
    "X = imputer.transform(X)\n",
    "X_final = imputer.transform(X_final)"
   ]
  },
  {
   "cell_type": "markdown",
   "id": "under-dressing",
   "metadata": {
    "papermill": {
     "duration": 0.045863,
     "end_time": "2021-06-27T23:28:23.117156",
     "exception": false,
     "start_time": "2021-06-27T23:28:23.071293",
     "status": "completed"
    },
    "tags": []
   },
   "source": [
    "**6.Генерация новых признаков.**"
   ]
  },
  {
   "cell_type": "code",
   "execution_count": 23,
   "id": "ethical-surname",
   "metadata": {
    "execution": {
     "iopub.execute_input": "2021-06-27T23:28:23.212111Z",
     "iopub.status.busy": "2021-06-27T23:28:23.211025Z",
     "iopub.status.idle": "2021-06-27T23:28:23.233169Z",
     "shell.execute_reply": "2021-06-27T23:28:23.233667Z",
     "shell.execute_reply.started": "2021-06-27T23:21:30.959248Z"
    },
    "papermill": {
     "duration": 0.07131,
     "end_time": "2021-06-27T23:28:23.233849",
     "exception": false,
     "start_time": "2021-06-27T23:28:23.162539",
     "status": "completed"
    },
    "tags": []
   },
   "outputs": [],
   "source": [
    "class F_Genetator():\n",
    "    \"\"\"Generate New Features\"\"\"\n",
    "    \n",
    "    def __init__(self):\n",
    "        self.DistrictId_counts = None\n",
    "        self.binary_to_numbers = None\n",
    "        self.med_price_by_district = None\n",
    "        \n",
    "    def fit(self, X, y=None):\n",
    "        \n",
    "        X = X.copy()\n",
    "        \n",
    "        # DistrictID\n",
    "        district = X['DistrictId'].value_counts()\n",
    "        district = district[district > 50]\n",
    "        \n",
    "        self.DistrictId_counts = dict(district)\n",
    "        \n",
    "        # Binary features\n",
    "        self.binary_to_numbers = {'A': 0, 'B': 1}\n",
    "        \n",
    "        # Target encoding\n",
    "        ## District\n",
    "        df = X.copy()\n",
    "        \n",
    "        if y is not None:\n",
    "            df['Price'] = y.values\n",
    "            \n",
    "            df['DistrictId_popular'] = df['DistrictId'].copy()\n",
    "            df.loc[~df['DistrictId_popular'].isin(district.keys().tolist())] = np.nan\n",
    "            \n",
    "            self.med_price_by_district = df.groupby(['DistrictId_popular', 'Rooms'], as_index=False).agg({'Price':'median'}).\\\n",
    "                                            rename(columns={'Price':'MedPriceByDistrict',\n",
    "                                                           'DistrictId_popular': 'DistrictId'})\n",
    "            \n",
    "        ## floor, year\n",
    "        if y is not None:\n",
    "            df['Price'] = y.values\n",
    "            df = self.floor_to_cat(df)\n",
    "            df = self.year_to_cat(df)\n",
    "            self.med_price_by_floor_year = df.groupby(['year_cat', 'floor_cat'], as_index=False).agg({'Price':'median'}).\\\n",
    "                                            rename(columns={'Price':'MedPriceByFloorYear'})\n",
    "        \n",
    "\n",
    "        \n",
    "    def transform(self, X):\n",
    "        \n",
    "        # DistrictId\n",
    "        X['DistrictId_count'] = X['DistrictId'].map(self.DistrictId_counts)\n",
    "        \n",
    "        X['new_district'] = 0\n",
    "        X.loc[X['DistrictId_count'].isna(), 'new_district'] = 1\n",
    "        \n",
    "        X['DistrictId_count'].fillna(5, inplace=True)\n",
    "        \n",
    "        # Binary features\n",
    "        X['Ecology_2'] = X['Ecology_2'].map(self.binary_to_numbers)\n",
    "        X['Ecology_3'] = X['Ecology_3'].map(self.binary_to_numbers)\n",
    "        X['Shops_2'] = X['Shops_2'].map(self.binary_to_numbers)\n",
    "        \n",
    "        # More categorical features\n",
    "        X = self.floor_to_cat(X)\n",
    "        X = self.year_to_cat(X) \n",
    "        \n",
    "        # Target encoding\n",
    "        if self.med_price_by_district is not None:\n",
    "            X = X.merge(self.med_price_by_district, on=['DistrictId', 'Rooms'], how='left')\n",
    "        if self.med_price_by_floor_year is not None:\n",
    "            X = X.merge(self.med_price_by_floor_year, on=['year_cat', 'floor_cat'], how='left')\n",
    "        \n",
    "        return X\n",
    "    \n",
    "    @staticmethod\n",
    "    def floor_to_cat(X):\n",
    "        \n",
    "        X['floor_cat'] = np.nan\n",
    "        \n",
    "        X.loc[X['Floor'] < 3, 'floor_cat'] = 1  \n",
    "        X.loc[(X['Floor'] >= 3) & (X['Floor'] <= 5), 'floor_cat'] = 2\n",
    "        X.loc[(X['Floor'] > 5) & (X['Floor'] <= 9), 'floor_cat'] = 3\n",
    "        X.loc[(X['Floor'] > 9) & (X['Floor'] <= 15), 'floor_cat'] = 4\n",
    "        X.loc[X['Floor'] > 15, 'floor_cat'] = 5\n",
    "            \n",
    "        return X\n",
    "     \n",
    "    @staticmethod\n",
    "    def year_to_cat(X):\n",
    "        \n",
    "        X['year_cat'] = np.nan\n",
    "        \n",
    "        X.loc[X['HouseYear'] < 1941, 'year_cat'] = 1\n",
    "        X.loc[(X['HouseYear'] >= 1941) & (X['HouseYear'] <= 1945), 'year_cat'] = 2\n",
    "        X.loc[(X['HouseYear'] > 1945) & (X['HouseYear'] <= 1980), 'year_cat'] = 3\n",
    "        X.loc[(X['HouseYear'] > 1980) & (X['HouseYear'] <= 2000), 'year_cat'] = 4\n",
    "        X.loc[(X['HouseYear'] > 2000) & (X['HouseYear'] <= 2010), 'year_cat'] = 5\n",
    "        X.loc[(X['HouseYear'] > 2010), 'year_cat'] = 6\n",
    "            \n",
    "        return X\n",
    "            "
   ]
  },
  {
   "cell_type": "code",
   "execution_count": 24,
   "id": "offshore-adapter",
   "metadata": {
    "execution": {
     "iopub.execute_input": "2021-06-27T23:28:23.328271Z",
     "iopub.status.busy": "2021-06-27T23:28:23.327280Z",
     "iopub.status.idle": "2021-06-27T23:28:23.454274Z",
     "shell.execute_reply": "2021-06-27T23:28:23.454796Z",
     "shell.execute_reply.started": "2021-06-27T23:22:07.229416Z"
    },
    "papermill": {
     "duration": 0.175894,
     "end_time": "2021-06-27T23:28:23.454969",
     "exception": false,
     "start_time": "2021-06-27T23:28:23.279075",
     "status": "completed"
    },
    "tags": []
   },
   "outputs": [],
   "source": [
    "features = F_Genetator()\n",
    "\n",
    "features.fit(X, y)\n",
    "\n",
    "X = features.transform(X)\n",
    "X_final = features.transform(X_final)"
   ]
  },
  {
   "cell_type": "code",
   "execution_count": 25,
   "id": "prostate-cancellation",
   "metadata": {
    "execution": {
     "iopub.execute_input": "2021-06-27T23:28:23.549309Z",
     "iopub.status.busy": "2021-06-27T23:28:23.548299Z",
     "iopub.status.idle": "2021-06-27T23:28:23.560701Z",
     "shell.execute_reply": "2021-06-27T23:28:23.561188Z",
     "shell.execute_reply.started": "2021-06-27T23:25:30.312153Z"
    },
    "papermill": {
     "duration": 0.061592,
     "end_time": "2021-06-27T23:28:23.561424",
     "exception": false,
     "start_time": "2021-06-27T23:28:23.499832",
     "status": "completed"
    },
    "tags": []
   },
   "outputs": [],
   "source": [
    "r_features = ['Rooms', 'Square', 'LifeSquare', 'KitchenSquare', 'Floor', 'Ecology_1', 'Social_1', 'Shops_1',\n",
    "                    \n",
    "                   'HouseFloor', 'HouseYear',\n",
    "                   \n",
    "                  'DistrictId_count',   'Ecology_3', 'Shops_2',\n",
    "                  'MedPriceByDistrict',\n",
    "                  'MedPriceByFloorYear','Ecology_2','Rooms_outlier', 'LifeSquare_nan', 'new_district','HouseYear_outlier']\n",
    "\n",
    "X = X[r_features]\n",
    "X_final = X_final[r_features]"
   ]
  },
  {
   "cell_type": "markdown",
   "id": "humanitarian-gauge",
   "metadata": {
    "papermill": {
     "duration": 0.045769,
     "end_time": "2021-06-27T23:28:23.652660",
     "exception": false,
     "start_time": "2021-06-27T23:28:23.606891",
     "status": "completed"
    },
    "tags": []
   },
   "source": [
    "**7.Построение модели.**"
   ]
  },
  {
   "cell_type": "code",
   "execution_count": 26,
   "id": "african-underground",
   "metadata": {
    "execution": {
     "iopub.execute_input": "2021-06-27T23:28:23.747739Z",
     "iopub.status.busy": "2021-06-27T23:28:23.746715Z",
     "iopub.status.idle": "2021-06-27T23:28:25.909898Z",
     "shell.execute_reply": "2021-06-27T23:28:25.910785Z",
     "shell.execute_reply.started": "2021-06-27T23:25:24.189407Z"
    },
    "papermill": {
     "duration": 2.212725,
     "end_time": "2021-06-27T23:28:25.910980",
     "exception": false,
     "start_time": "2021-06-27T23:28:23.698255",
     "status": "completed"
    },
    "tags": []
   },
   "outputs": [
    {
     "name": "stdout",
     "output_type": "stream",
     "text": [
      "[LightGBM] [Warning] Unknown parameter: min_samples_leaf\n",
      "[LightGBM] [Warning] Unknown parameter: min_samples_leaf\n",
      "[LightGBM] [Warning] Unknown parameter: min_samples_leaf\n",
      "[LightGBM] [Warning] Unknown parameter: min_samples_leaf\n",
      "[LightGBM] [Warning] Unknown parameter: min_samples_leaf\n",
      "R2: 0.737 +- 0.018\n"
     ]
    }
   ],
   "source": [
    "model = LGBMRegressor(max_depth=33,\n",
    "                             min_samples_leaf=10,\n",
    "                             n_estimators=300,\n",
    "                             random_state=41)\n",
    "\n",
    "cv_score = cross_val_score(model, X, y, \n",
    "                           scoring='r2', \n",
    "                           cv=KFold(n_splits=5, shuffle=True, random_state=41))\n",
    "# cv_score\n",
    "mean = cv_score.mean()\n",
    "std = cv_score.std()\n",
    "\n",
    "print('R2: {:.3f} +- {:.3f}'.format(mean, std))"
   ]
  },
  {
   "cell_type": "code",
   "execution_count": 27,
   "id": "addressed-princess",
   "metadata": {
    "execution": {
     "iopub.execute_input": "2021-06-27T23:28:26.014275Z",
     "iopub.status.busy": "2021-06-27T23:28:26.013241Z",
     "iopub.status.idle": "2021-06-27T23:28:26.438283Z",
     "shell.execute_reply": "2021-06-27T23:28:26.438831Z",
     "shell.execute_reply.started": "2021-06-27T23:25:33.437831Z"
    },
    "papermill": {
     "duration": 0.478633,
     "end_time": "2021-06-27T23:28:26.439028",
     "exception": false,
     "start_time": "2021-06-27T23:28:25.960395",
     "status": "completed"
    },
    "tags": []
   },
   "outputs": [
    {
     "name": "stdout",
     "output_type": "stream",
     "text": [
      "[LightGBM] [Warning] Unknown parameter: min_samples_leaf\n"
     ]
    },
    {
     "data": {
      "text/plain": [
       "LGBMRegressor(max_depth=33, min_samples_leaf=10, n_estimators=300,\n",
       "              random_state=41)"
      ]
     },
     "execution_count": 27,
     "metadata": {},
     "output_type": "execute_result"
    }
   ],
   "source": [
    "model.fit(X, y)"
   ]
  },
  {
   "cell_type": "code",
   "execution_count": 28,
   "id": "above-flexibility",
   "metadata": {
    "execution": {
     "iopub.execute_input": "2021-06-27T23:28:26.570110Z",
     "iopub.status.busy": "2021-06-27T23:28:26.564676Z",
     "iopub.status.idle": "2021-06-27T23:28:26.867788Z",
     "shell.execute_reply": "2021-06-27T23:28:26.868252Z",
     "shell.execute_reply.started": "2021-06-27T23:25:36.061360Z"
    },
    "papermill": {
     "duration": 0.380915,
     "end_time": "2021-06-27T23:28:26.868436",
     "exception": false,
     "start_time": "2021-06-27T23:28:26.487521",
     "status": "completed"
    },
    "tags": []
   },
   "outputs": [
    {
     "data": {
      "image/png": "[encoded data removed]",
      "text/plain": [
       "<Figure size 1440x432 with 1 Axes>"
      ]
     },
     "metadata": {
      "needs_background": "light"
     },
     "output_type": "display_data"
    }
   ],
   "source": [
    "def plot_f_importances(importances, X):\n",
    "    \n",
    "    indices = np.argsort(importances)[::-1]\n",
    "\n",
    "    plt.figure(figsize = (20, 6))\n",
    "    plt.title(\"Feature importances\", fontsize=16)\n",
    "    plt.bar(range(X.shape[1]), importances[indices] / importances.sum(),\n",
    "           color=\"darkblue\", align=\"center\")\n",
    "    plt.xticks(range(X.shape[1]), X.columns[indices], rotation = 90, fontsize=14)\n",
    "    plt.xlim([-1, X.shape[1]])\n",
    "\n",
    "    plt.tight_layout()\n",
    "    # plt.savefig('fe.jpg')\n",
    "    plt.show()\n",
    "    \n",
    "plot_f_importances(importances = model.feature_importances_, X=X)"
   ]
  },
  {
   "cell_type": "code",
   "execution_count": 29,
   "id": "liable-criminal",
   "metadata": {
    "execution": {
     "iopub.execute_input": "2021-06-27T23:28:26.969132Z",
     "iopub.status.busy": "2021-06-27T23:28:26.968540Z",
     "iopub.status.idle": "2021-06-27T23:28:26.974956Z",
     "shell.execute_reply": "2021-06-27T23:28:26.974479Z",
     "shell.execute_reply.started": "2021-06-27T20:27:16.247882Z"
    },
    "papermill": {
     "duration": 0.057685,
     "end_time": "2021-06-27T23:28:26.975092",
     "exception": false,
     "start_time": "2021-06-27T23:28:26.917407",
     "status": "completed"
    },
    "tags": []
   },
   "outputs": [
    {
     "data": {
      "text/plain": [
       "<bound method LGBMModel.get_params of LGBMRegressor(max_depth=33, min_samples_leaf=10, n_estimators=300,\n",
       "              random_state=41)>"
      ]
     },
     "execution_count": 29,
     "metadata": {},
     "output_type": "execute_result"
    }
   ],
   "source": [
    "model.get_params"
   ]
  },
  {
   "cell_type": "code",
   "execution_count": 30,
   "id": "noticed-vault",
   "metadata": {
    "execution": {
     "iopub.execute_input": "2021-06-27T23:28:27.083136Z",
     "iopub.status.busy": "2021-06-27T23:28:27.082486Z",
     "iopub.status.idle": "2021-06-27T23:28:27.085335Z",
     "shell.execute_reply": "2021-06-27T23:28:27.085845Z",
     "shell.execute_reply.started": "2021-06-27T20:27:23.736781Z"
    },
    "papermill": {
     "duration": 0.060111,
     "end_time": "2021-06-27T23:28:27.086015",
     "exception": false,
     "start_time": "2021-06-27T23:28:27.025904",
     "status": "completed"
    },
    "tags": []
   },
   "outputs": [
    {
     "data": {
      "text/plain": [
       "array([0.01, 0.02, 0.03, 0.04])"
      ]
     },
     "execution_count": 30,
     "metadata": {},
     "output_type": "execute_result"
    }
   ],
   "source": [
    "np.arange(0.01, 0.05, 0.01)"
   ]
  },
  {
   "cell_type": "code",
   "execution_count": 31,
   "id": "involved-danish",
   "metadata": {
    "execution": {
     "iopub.execute_input": "2021-06-27T23:28:27.188259Z",
     "iopub.status.busy": "2021-06-27T23:28:27.187644Z",
     "iopub.status.idle": "2021-06-27T23:28:27.191968Z",
     "shell.execute_reply": "2021-06-27T23:28:27.192543Z",
     "shell.execute_reply.started": "2021-06-27T20:27:41.727028Z"
    },
    "papermill": {
     "duration": 0.056919,
     "end_time": "2021-06-27T23:28:27.192718",
     "exception": false,
     "start_time": "2021-06-27T23:28:27.135799",
     "status": "completed"
    },
    "tags": []
   },
   "outputs": [],
   "source": [
    "parameters = [{\n",
    "    'max_bin': np.arange(90, 120, 10),\n",
    "    'n_estimators': np.arange(4000, 7000, 1000),\n",
    "    'learning_rate': np.arange(0.01, 0.05, 0.01)\n",
    "}]"
   ]
  },
  {
   "cell_type": "code",
   "execution_count": 32,
   "id": "attended-aggregate",
   "metadata": {
    "execution": {
     "iopub.execute_input": "2021-06-27T23:28:27.295018Z",
     "iopub.status.busy": "2021-06-27T23:28:27.294383Z",
     "iopub.status.idle": "2021-06-27T23:28:27.299382Z",
     "shell.execute_reply": "2021-06-27T23:28:27.298810Z",
     "shell.execute_reply.started": "2021-06-27T20:27:44.631553Z"
    },
    "papermill": {
     "duration": 0.057073,
     "end_time": "2021-06-27T23:28:27.299526",
     "exception": false,
     "start_time": "2021-06-27T23:28:27.242453",
     "status": "completed"
    },
    "tags": []
   },
   "outputs": [],
   "source": [
    "clf = GridSearchCV(\n",
    "    estimator=LGBMRegressor(random_state=41),\n",
    "    param_grid=parameters,\n",
    "    scoring='neg_mean_squared_error',\n",
    "    cv=4,\n",
    "    n_jobs=-1,\n",
    ")"
   ]
  },
  {
   "cell_type": "code",
   "execution_count": 33,
   "id": "liked-yugoslavia",
   "metadata": {
    "execution": {
     "iopub.execute_input": "2021-06-27T23:28:27.405551Z",
     "iopub.status.busy": "2021-06-27T23:28:27.404917Z",
     "iopub.status.idle": "2021-06-27T23:36:48.681641Z",
     "shell.execute_reply": "2021-06-27T23:36:48.682133Z",
     "shell.execute_reply.started": "2021-06-27T20:27:54.390528Z"
    },
    "papermill": {
     "duration": 501.332375,
     "end_time": "2021-06-27T23:36:48.682330",
     "exception": false,
     "start_time": "2021-06-27T23:28:27.349955",
     "status": "completed"
    },
    "tags": []
   },
   "outputs": [
    {
     "data": {
      "text/plain": [
       "GridSearchCV(cv=4, estimator=LGBMRegressor(random_state=41), n_jobs=-1,\n",
       "             param_grid=[{'learning_rate': array([0.01, 0.02, 0.03, 0.04]),\n",
       "                          'max_bin': array([ 90, 100, 110]),\n",
       "                          'n_estimators': array([4000, 5000, 6000])}],\n",
       "             scoring='neg_mean_squared_error')"
      ]
     },
     "execution_count": 33,
     "metadata": {},
     "output_type": "execute_result"
    }
   ],
   "source": [
    "clf.fit(X, y)"
   ]
  },
  {
   "cell_type": "code",
   "execution_count": 34,
   "id": "anonymous-prerequisite",
   "metadata": {
    "execution": {
     "iopub.execute_input": "2021-06-27T23:36:48.789130Z",
     "iopub.status.busy": "2021-06-27T23:36:48.788114Z",
     "iopub.status.idle": "2021-06-27T23:36:48.792540Z",
     "shell.execute_reply": "2021-06-27T23:36:48.792012Z",
     "shell.execute_reply.started": "2021-06-27T20:41:26.981571Z"
    },
    "papermill": {
     "duration": 0.060773,
     "end_time": "2021-06-27T23:36:48.792697",
     "exception": false,
     "start_time": "2021-06-27T23:36:48.731924",
     "status": "completed"
    },
    "tags": []
   },
   "outputs": [
    {
     "data": {
      "text/plain": [
       "{'learning_rate': 0.01, 'max_bin': 90, 'n_estimators': 4000}"
      ]
     },
     "execution_count": 34,
     "metadata": {},
     "output_type": "execute_result"
    }
   ],
   "source": [
    "clf.best_params_"
   ]
  },
  {
   "cell_type": "markdown",
   "id": "looking-prefix",
   "metadata": {
    "papermill": {
     "duration": 0.050309,
     "end_time": "2021-06-27T23:36:48.893039",
     "exception": false,
     "start_time": "2021-06-27T23:36:48.842730",
     "status": "completed"
    },
    "tags": []
   },
   "source": [
    "**8.Прогнозирование на тестовом датасете.**"
   ]
  },
  {
   "cell_type": "code",
   "execution_count": 35,
   "id": "exposed-niagara",
   "metadata": {
    "execution": {
     "iopub.execute_input": "2021-06-27T23:36:49.002215Z",
     "iopub.status.busy": "2021-06-27T23:36:49.001467Z",
     "iopub.status.idle": "2021-06-27T23:37:15.093757Z",
     "shell.execute_reply": "2021-06-27T23:37:15.094670Z",
     "shell.execute_reply.started": "2021-06-27T20:42:21.201961Z"
    },
    "papermill": {
     "duration": 26.151121,
     "end_time": "2021-06-27T23:37:15.094875",
     "exception": false,
     "start_time": "2021-06-27T23:36:48.943754",
     "status": "completed"
    },
    "tags": []
   },
   "outputs": [
    {
     "name": "stdout",
     "output_type": "stream",
     "text": [
      "R2: 0.739 +- 0.018\n"
     ]
    }
   ],
   "source": [
    "model = LGBMRegressor(max_bin=110,\n",
    "    n_estimators=4000,\n",
    "    learning_rate=0.01)\n",
    "\n",
    "cv_score = cross_val_score(model, X, y, \n",
    "                           scoring='r2', \n",
    "                           cv=KFold(n_splits=5, shuffle=True, random_state=41))\n",
    "# cv_score\n",
    "mean = cv_score.mean()\n",
    "std = cv_score.std()\n",
    "\n",
    "print('R2: {:.3f} +- {:.3f}'.format(mean, std))"
   ]
  },
  {
   "cell_type": "code",
   "execution_count": 36,
   "id": "available-range",
   "metadata": {
    "execution": {
     "iopub.execute_input": "2021-06-27T23:37:15.203570Z",
     "iopub.status.busy": "2021-06-27T23:37:15.202885Z",
     "iopub.status.idle": "2021-06-27T23:37:20.323732Z",
     "shell.execute_reply": "2021-06-27T23:37:20.323236Z",
     "shell.execute_reply.started": "2021-06-27T20:43:10.305531Z"
    },
    "papermill": {
     "duration": 5.176905,
     "end_time": "2021-06-27T23:37:20.323893",
     "exception": false,
     "start_time": "2021-06-27T23:37:15.146988",
     "status": "completed"
    },
    "tags": []
   },
   "outputs": [
    {
     "data": {
      "text/plain": [
       "LGBMRegressor(learning_rate=0.01, max_bin=110, n_estimators=4000)"
      ]
     },
     "execution_count": 36,
     "metadata": {},
     "output_type": "execute_result"
    }
   ],
   "source": [
    "model.fit(X, y)"
   ]
  },
  {
   "cell_type": "code",
   "execution_count": 37,
   "id": "recorded-hawaiian",
   "metadata": {
    "execution": {
     "iopub.execute_input": "2021-06-27T23:37:20.433942Z",
     "iopub.status.busy": "2021-06-27T23:37:20.433271Z",
     "iopub.status.idle": "2021-06-27T23:37:21.115211Z",
     "shell.execute_reply": "2021-06-27T23:37:21.114547Z",
     "shell.execute_reply.started": "2021-06-27T20:44:24.092917Z"
    },
    "papermill": {
     "duration": 0.739558,
     "end_time": "2021-06-27T23:37:21.115354",
     "exception": false,
     "start_time": "2021-06-27T23:37:20.375796",
     "status": "completed"
    },
    "tags": []
   },
   "outputs": [
    {
     "data": {
      "text/html": [
       "<div>\n",
       "<style scoped>\n",
       "    .dataframe tbody tr th:only-of-type {\n",
       "        vertical-align: middle;\n",
       "    }\n",
       "\n",
       "    .dataframe tbody tr th {\n",
       "        vertical-align: top;\n",
       "    }\n",
       "\n",
       "    .dataframe thead th {\n",
       "        text-align: right;\n",
       "    }\n",
       "</style>\n",
       "<table border=\"1\" class=\"dataframe\">\n",
       "  <thead>\n",
       "    <tr style=\"text-align: right;\">\n",
       "      <th></th>\n",
       "      <th>Id</th>\n",
       "      <th>Price</th>\n",
       "    </tr>\n",
       "  </thead>\n",
       "  <tbody>\n",
       "    <tr>\n",
       "      <th>0</th>\n",
       "      <td>4567</td>\n",
       "      <td>160238.297663</td>\n",
       "    </tr>\n",
       "    <tr>\n",
       "      <th>1</th>\n",
       "      <td>5925</td>\n",
       "      <td>122432.074029</td>\n",
       "    </tr>\n",
       "    <tr>\n",
       "      <th>2</th>\n",
       "      <td>960</td>\n",
       "      <td>140885.065961</td>\n",
       "    </tr>\n",
       "    <tr>\n",
       "      <th>3</th>\n",
       "      <td>3848</td>\n",
       "      <td>104976.625326</td>\n",
       "    </tr>\n",
       "    <tr>\n",
       "      <th>4</th>\n",
       "      <td>746</td>\n",
       "      <td>179502.601020</td>\n",
       "    </tr>\n",
       "    <tr>\n",
       "      <th>5</th>\n",
       "      <td>868</td>\n",
       "      <td>278171.675229</td>\n",
       "    </tr>\n",
       "    <tr>\n",
       "      <th>6</th>\n",
       "      <td>672</td>\n",
       "      <td>108100.847861</td>\n",
       "    </tr>\n",
       "    <tr>\n",
       "      <th>7</th>\n",
       "      <td>2471</td>\n",
       "      <td>207702.751957</td>\n",
       "    </tr>\n",
       "    <tr>\n",
       "      <th>8</th>\n",
       "      <td>4510</td>\n",
       "      <td>121917.645642</td>\n",
       "    </tr>\n",
       "    <tr>\n",
       "      <th>9</th>\n",
       "      <td>8354</td>\n",
       "      <td>227415.644036</td>\n",
       "    </tr>\n",
       "  </tbody>\n",
       "</table>\n",
       "</div>"
      ],
      "text/plain": [
       "     Id          Price\n",
       "0  4567  160238.297663\n",
       "1  5925  122432.074029\n",
       "2   960  140885.065961\n",
       "3  3848  104976.625326\n",
       "4   746  179502.601020\n",
       "5   868  278171.675229\n",
       "6   672  108100.847861\n",
       "7  2471  207702.751957\n",
       "8  4510  121917.645642\n",
       "9  8354  227415.644036"
      ]
     },
     "execution_count": 37,
     "metadata": {},
     "output_type": "execute_result"
    }
   ],
   "source": [
    "y_pred_final = model.predict(X_final)\n",
    "# test DATA Learn\n",
    "\n",
    "\n",
    "preds_final['Price'] = y_pred_final\n",
    "preds_final.to_csv('predictions.csv', index=False)\n",
    "\n",
    "preds_final.head(10)"
   ]
  },
  {
   "cell_type": "code",
   "execution_count": 38,
   "id": "grand-talent",
   "metadata": {
    "execution": {
     "iopub.execute_input": "2021-06-27T23:37:21.224578Z",
     "iopub.status.busy": "2021-06-27T23:37:21.223844Z",
     "iopub.status.idle": "2021-06-27T23:37:21.226861Z",
     "shell.execute_reply": "2021-06-27T23:37:21.227391Z",
     "shell.execute_reply.started": "2021-06-27T20:44:50.221457Z"
    },
    "papermill": {
     "duration": 0.060239,
     "end_time": "2021-06-27T23:37:21.227566",
     "exception": false,
     "start_time": "2021-06-27T23:37:21.167327",
     "status": "completed"
    },
    "tags": []
   },
   "outputs": [
    {
     "data": {
      "text/plain": [
       "(5000, 2)"
      ]
     },
     "execution_count": 38,
     "metadata": {},
     "output_type": "execute_result"
    }
   ],
   "source": [
    "preds_final.shape"
   ]
  }
 ],
 "metadata": {
  "kernelspec": {
   "display_name": "Python 3",
   "language": "python",
   "name": "python3"
  },
  "language_info": {
   "codemirror_mode": {
    "name": "ipython",
    "version": 3
   },
   "file_extension": ".py",
   "mimetype": "text/x-python",
   "name": "python",
   "nbconvert_exporter": "python",
   "pygments_lexer": "ipython3",
   "version": "3.8.8"
  },
  "papermill": {
   "default_parameters": {},
   "duration": 553.040172,
   "end_time": "2021-06-27T23:37:22.189276",
   "environment_variables": {},
   "exception": null,
   "input_path": "__notebook__.ipynb",
   "output_path": "__notebook__.ipynb",
   "parameters": {},
   "start_time": "2021-06-27T23:28:09.149104",
   "version": "2.3.3"
  }
 },
 "nbformat": 4,
 "nbformat_minor": 5
}
